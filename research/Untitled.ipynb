{
 "cells": [
  {
   "cell_type": "code",
   "execution_count": 2,
   "metadata": {},
   "outputs": [
    {
     "name": "stderr",
     "output_type": "stream",
     "text": [
      "/tmp/ipykernel_7001/3285560643.py:1: DeprecationWarning: Importing display from IPython.core.display is deprecated since IPython 7.14, please import from IPython display\n",
      "  from IPython.core.display import display, HTML, Javascript\n"
     ]
    },
    {
     "data": {
      "text/html": [
       "<style> \n",
       "\n",
       "div #notebook {\n",
       "background-color: white;\n",
       "line-height: 20px;\n",
       "}\n",
       "\n",
       "#notebook-container {\n",
       "width: 95%;\n",
       "margin-top: 2em;\n",
       "padding-top: 2em;\n",
       "border-top: 4px solid #f4a261; /* light orange */\n",
       "-webkit-box-shadow: 0px 0px 8px 2px rgba(224, 212, 226, 0.5); /* pink */\n",
       "    box-shadow: 0px 0px 8px 2px rgba(224, 212, 226, 0.5); /* pink */\n",
       "}\n",
       "\n",
       "div .input {\n",
       "margin-bottom: 1em;\n",
       "}\n",
       "\n",
       ".rendered_html h1, .rendered_html h2, .rendered_html h3, .rendered_html h4, .rendered_html h5, .rendered_html h6 {\n",
       "color: #f4a261; /* light orange */\n",
       "font-weight: 600;\n",
       "}\n",
       "\n",
       "div.input_area {\n",
       "border: none;\n",
       "    background-color: rgba(244, 162, 97, 0.1); /* rgba(229, 143, 101, 0.1); light orange [exactly #E58F65] */\n",
       "    border-top: 2px solid #f4a261; /* light orange */\n",
       "}\n",
       "\n",
       "div.input_prompt {\n",
       "color: #f4a261; /* light blue */\n",
       "}\n",
       "\n",
       "div.output_prompt {\n",
       "color: #e76f51; /* strong orange */\n",
       "}\n",
       "\n",
       "div.cell.selected:before, div.cell.selected.jupyter-soft-selected:before {\n",
       "background: #f4a261; /* light orange */\n",
       "}\n",
       "\n",
       "div.cell.selected, div.cell.selected.jupyter-soft-selected {\n",
       "    border-color: #f4a261; /* light orange */\n",
       "}\n",
       "\n",
       ".edit_mode div.cell.selected:before {\n",
       "background: #f4a261; /* light orange */\n",
       "}\n",
       "\n",
       ".edit_mode div.cell.selected {\n",
       "border-color: #f4a261; /* light orange */\n",
       "\n",
       "}\n",
       "</style>"
      ],
      "text/plain": [
       "<IPython.core.display.HTML object>"
      ]
     },
     "execution_count": 2,
     "metadata": {},
     "output_type": "execute_result"
    }
   ],
   "source": [
    "from IPython.core.display import display, HTML, Javascript\n",
    "\n",
    "# ----- Notebook Theme -----\n",
    "color_map = ['#f4a261', '#e8f6f3', '#d0ece7', '#a2d9ce', '#73c6b6', '#45b39d', \n",
    "                        '#16a085', '#138d75', '#117a65', '#0e6655', '#e76f51']\n",
    "\n",
    "prompt = color_map[-1]\n",
    "main_color = color_map[0]\n",
    "strong_main_color = color_map[1]\n",
    "custom_colors = [strong_main_color, main_color]\n",
    "\n",
    "css_file = ''' \n",
    "\n",
    "div #notebook {\n",
    "background-color: white;\n",
    "line-height: 20px;\n",
    "}\n",
    "\n",
    "#notebook-container {\n",
    "%s\n",
    "margin-top: 2em;\n",
    "padding-top: 2em;\n",
    "border-top: 4px solid %s; /* light orange */\n",
    "-webkit-box-shadow: 0px 0px 8px 2px rgba(224, 212, 226, 0.5); /* pink */\n",
    "    box-shadow: 0px 0px 8px 2px rgba(224, 212, 226, 0.5); /* pink */\n",
    "}\n",
    "\n",
    "div .input {\n",
    "margin-bottom: 1em;\n",
    "}\n",
    "\n",
    ".rendered_html h1, .rendered_html h2, .rendered_html h3, .rendered_html h4, .rendered_html h5, .rendered_html h6 {\n",
    "color: %s; /* light orange */\n",
    "font-weight: 600;\n",
    "}\n",
    "\n",
    "div.input_area {\n",
    "border: none;\n",
    "    background-color: %s; /* rgba(229, 143, 101, 0.1); light orange [exactly #E58F65] */\n",
    "    border-top: 2px solid %s; /* light orange */\n",
    "}\n",
    "\n",
    "div.input_prompt {\n",
    "color: %s; /* light blue */\n",
    "}\n",
    "\n",
    "div.output_prompt {\n",
    "color: %s; /* strong orange */\n",
    "}\n",
    "\n",
    "div.cell.selected:before, div.cell.selected.jupyter-soft-selected:before {\n",
    "background: %s; /* light orange */\n",
    "}\n",
    "\n",
    "div.cell.selected, div.cell.selected.jupyter-soft-selected {\n",
    "    border-color: %s; /* light orange */\n",
    "}\n",
    "\n",
    ".edit_mode div.cell.selected:before {\n",
    "background: %s; /* light orange */\n",
    "}\n",
    "\n",
    ".edit_mode div.cell.selected {\n",
    "border-color: %s; /* light orange */\n",
    "\n",
    "}\n",
    "'''\n",
    "def to_rgb(h): \n",
    "    return tuple(int(h[i:i+2], 16) for i in [0, 2, 4])\n",
    "\n",
    "main_color_rgba = 'rgba(%s, %s, %s, 0.1)' % (to_rgb(main_color[1:]))\n",
    "open('notebook.css', 'w').write(css_file % ('width: 95%;', main_color, main_color, main_color_rgba, main_color,  main_color, prompt, main_color, main_color, main_color, main_color))\n",
    "\n",
    "def nb(): \n",
    "    return HTML(\"<style>\" + open(\"notebook.css\", \"r\").read() + \"</style>\")\n",
    "nb()"
   ]
  },
  {
   "cell_type": "code",
   "execution_count": 1,
   "metadata": {
    "tags": []
   },
   "outputs": [],
   "source": [
    "import pandas as pd\n",
    "import numpy as np"
   ]
  },
  {
   "cell_type": "code",
   "execution_count": 2,
   "metadata": {
    "tags": []
   },
   "outputs": [],
   "source": [
    "import pandas as pd\n",
    "import numpy as np\n",
    "df = pd.read_csv('../src/data/interactions.csv')\n",
    "df_users = pd.read_csv('../src/data/users.csv')\n",
    "df_items = pd.read_csv('../src/data/items.csv')"
   ]
  },
  {
   "cell_type": "code",
   "execution_count": 22,
   "metadata": {
    "tags": []
   },
   "outputs": [
    {
     "data": {
      "text/html": [
       "<div>\n",
       "<style scoped>\n",
       "    .dataframe tbody tr th:only-of-type {\n",
       "        vertical-align: middle;\n",
       "    }\n",
       "\n",
       "    .dataframe tbody tr th {\n",
       "        vertical-align: top;\n",
       "    }\n",
       "\n",
       "    .dataframe thead th {\n",
       "        text-align: right;\n",
       "    }\n",
       "</style>\n",
       "<table border=\"1\" class=\"dataframe\">\n",
       "  <thead>\n",
       "    <tr style=\"text-align: right;\">\n",
       "      <th></th>\n",
       "      <th>user_id</th>\n",
       "      <th>item_id</th>\n",
       "      <th>progress</th>\n",
       "      <th>rating</th>\n",
       "      <th>start_date</th>\n",
       "    </tr>\n",
       "  </thead>\n",
       "  <tbody>\n",
       "    <tr>\n",
       "      <th>0</th>\n",
       "      <td>126706</td>\n",
       "      <td>14433</td>\n",
       "      <td>80</td>\n",
       "      <td>NaN</td>\n",
       "      <td>2018-01-01</td>\n",
       "    </tr>\n",
       "    <tr>\n",
       "      <th>1</th>\n",
       "      <td>127290</td>\n",
       "      <td>140952</td>\n",
       "      <td>58</td>\n",
       "      <td>NaN</td>\n",
       "      <td>2018-01-01</td>\n",
       "    </tr>\n",
       "    <tr>\n",
       "      <th>2</th>\n",
       "      <td>66991</td>\n",
       "      <td>198453</td>\n",
       "      <td>89</td>\n",
       "      <td>NaN</td>\n",
       "      <td>2018-01-01</td>\n",
       "    </tr>\n",
       "    <tr>\n",
       "      <th>3</th>\n",
       "      <td>46791</td>\n",
       "      <td>83486</td>\n",
       "      <td>23</td>\n",
       "      <td>5.0</td>\n",
       "      <td>2018-01-01</td>\n",
       "    </tr>\n",
       "    <tr>\n",
       "      <th>4</th>\n",
       "      <td>79313</td>\n",
       "      <td>188770</td>\n",
       "      <td>88</td>\n",
       "      <td>5.0</td>\n",
       "      <td>2018-01-01</td>\n",
       "    </tr>\n",
       "    <tr>\n",
       "      <th>...</th>\n",
       "      <td>...</td>\n",
       "      <td>...</td>\n",
       "      <td>...</td>\n",
       "      <td>...</td>\n",
       "      <td>...</td>\n",
       "    </tr>\n",
       "    <tr>\n",
       "      <th>1533073</th>\n",
       "      <td>76968</td>\n",
       "      <td>285394</td>\n",
       "      <td>95</td>\n",
       "      <td>NaN</td>\n",
       "      <td>2019-12-31</td>\n",
       "    </tr>\n",
       "    <tr>\n",
       "      <th>1533074</th>\n",
       "      <td>153877</td>\n",
       "      <td>285394</td>\n",
       "      <td>76</td>\n",
       "      <td>5.0</td>\n",
       "      <td>2019-12-31</td>\n",
       "    </tr>\n",
       "    <tr>\n",
       "      <th>1533075</th>\n",
       "      <td>90021</td>\n",
       "      <td>73789</td>\n",
       "      <td>97</td>\n",
       "      <td>NaN</td>\n",
       "      <td>2019-12-31</td>\n",
       "    </tr>\n",
       "    <tr>\n",
       "      <th>1533076</th>\n",
       "      <td>6452</td>\n",
       "      <td>77993</td>\n",
       "      <td>39</td>\n",
       "      <td>NaN</td>\n",
       "      <td>2019-12-31</td>\n",
       "    </tr>\n",
       "    <tr>\n",
       "      <th>1533077</th>\n",
       "      <td>70445</td>\n",
       "      <td>230195</td>\n",
       "      <td>2</td>\n",
       "      <td>NaN</td>\n",
       "      <td>2019-12-31</td>\n",
       "    </tr>\n",
       "  </tbody>\n",
       "</table>\n",
       "<p>1533078 rows × 5 columns</p>\n",
       "</div>"
      ],
      "text/plain": [
       "         user_id  item_id  progress  rating  start_date\n",
       "0         126706    14433        80     NaN  2018-01-01\n",
       "1         127290   140952        58     NaN  2018-01-01\n",
       "2          66991   198453        89     NaN  2018-01-01\n",
       "3          46791    83486        23     5.0  2018-01-01\n",
       "4          79313   188770        88     5.0  2018-01-01\n",
       "...          ...      ...       ...     ...         ...\n",
       "1533073    76968   285394        95     NaN  2019-12-31\n",
       "1533074   153877   285394        76     5.0  2019-12-31\n",
       "1533075    90021    73789        97     NaN  2019-12-31\n",
       "1533076     6452    77993        39     NaN  2019-12-31\n",
       "1533077    70445   230195         2     NaN  2019-12-31\n",
       "\n",
       "[1533078 rows x 5 columns]"
      ]
     },
     "execution_count": 22,
     "metadata": {},
     "output_type": "execute_result"
    }
   ],
   "source": [
    "df"
   ]
  },
  {
   "cell_type": "code",
   "execution_count": 51,
   "metadata": {
    "tags": []
   },
   "outputs": [
    {
     "data": {
      "text/html": [
       "<div>\n",
       "<style scoped>\n",
       "    .dataframe tbody tr th:only-of-type {\n",
       "        vertical-align: middle;\n",
       "    }\n",
       "\n",
       "    .dataframe tbody tr th {\n",
       "        vertical-align: top;\n",
       "    }\n",
       "\n",
       "    .dataframe thead th {\n",
       "        text-align: right;\n",
       "    }\n",
       "</style>\n",
       "<table border=\"1\" class=\"dataframe\">\n",
       "  <thead>\n",
       "    <tr style=\"text-align: right;\">\n",
       "      <th></th>\n",
       "      <th>id</th>\n",
       "      <th>title</th>\n",
       "      <th>genres</th>\n",
       "      <th>authors</th>\n",
       "      <th>year</th>\n",
       "    </tr>\n",
       "  </thead>\n",
       "  <tbody>\n",
       "    <tr>\n",
       "      <th>0</th>\n",
       "      <td>128115</td>\n",
       "      <td>Ворон-челобитчик</td>\n",
       "      <td>Зарубежные детские книги,Сказки,Зарубежная кла...</td>\n",
       "      <td>Михаил Салтыков-Щедрин</td>\n",
       "      <td>1886</td>\n",
       "    </tr>\n",
       "    <tr>\n",
       "      <th>1</th>\n",
       "      <td>210979</td>\n",
       "      <td>Скрипка Ротшильда</td>\n",
       "      <td>Классическая проза,Литература 19 века,Русская ...</td>\n",
       "      <td>Антон Чехов</td>\n",
       "      <td>1894</td>\n",
       "    </tr>\n",
       "    <tr>\n",
       "      <th>2</th>\n",
       "      <td>95632</td>\n",
       "      <td>Испорченные дети</td>\n",
       "      <td>Зарубежная классика,Классическая проза,Литерат...</td>\n",
       "      <td>Михаил Салтыков-Щедрин</td>\n",
       "      <td>1869</td>\n",
       "    </tr>\n",
       "    <tr>\n",
       "      <th>3</th>\n",
       "      <td>247906</td>\n",
       "      <td>Странный человек</td>\n",
       "      <td>Пьесы и драматургия,Литература 19 века</td>\n",
       "      <td>Михаил Лермонтов</td>\n",
       "      <td>1831</td>\n",
       "    </tr>\n",
       "    <tr>\n",
       "      <th>4</th>\n",
       "      <td>294280</td>\n",
       "      <td>Господа ташкентцы</td>\n",
       "      <td>Зарубежная классика,Классическая проза,Литерат...</td>\n",
       "      <td>Михаил Салтыков-Щедрин</td>\n",
       "      <td>1873</td>\n",
       "    </tr>\n",
       "  </tbody>\n",
       "</table>\n",
       "</div>"
      ],
      "text/plain": [
       "       id              title  \\\n",
       "0  128115   Ворон-челобитчик   \n",
       "1  210979  Скрипка Ротшильда   \n",
       "2   95632   Испорченные дети   \n",
       "3  247906   Странный человек   \n",
       "4  294280  Господа ташкентцы   \n",
       "\n",
       "                                              genres                 authors  \\\n",
       "0  Зарубежные детские книги,Сказки,Зарубежная кла...  Михаил Салтыков-Щедрин   \n",
       "1  Классическая проза,Литература 19 века,Русская ...             Антон Чехов   \n",
       "2  Зарубежная классика,Классическая проза,Литерат...  Михаил Салтыков-Щедрин   \n",
       "3             Пьесы и драматургия,Литература 19 века        Михаил Лермонтов   \n",
       "4  Зарубежная классика,Классическая проза,Литерат...  Михаил Салтыков-Щедрин   \n",
       "\n",
       "   year  \n",
       "0  1886  \n",
       "1  1894  \n",
       "2  1869  \n",
       "3  1831  \n",
       "4  1873  "
      ]
     },
     "execution_count": 51,
     "metadata": {},
     "output_type": "execute_result"
    }
   ],
   "source": [
    "df_items.head()"
   ]
  },
  {
   "cell_type": "markdown",
   "metadata": {},
   "source": [
    "# Аналитика\n"
   ]
  },
  {
   "cell_type": "markdown",
   "metadata": {},
   "source": [
    "## Кто наши основные пользователи?"
   ]
  },
  {
   "cell_type": "code",
   "execution_count": 36,
   "metadata": {},
   "outputs": [
    {
     "name": "stdout",
     "output_type": "stream",
     "text": [
      "Collecting seaborn\n",
      "  Using cached seaborn-0.12.2-py3-none-any.whl (293 kB)\n",
      "Requirement already satisfied: matplotlib!=3.6.1,>=3.1 in /home/kartushov/pet_projects/mfdp/.venv/lib/python3.8/site-packages (from seaborn) (3.7.1)\n",
      "Requirement already satisfied: numpy!=1.24.0,>=1.17 in /home/kartushov/pet_projects/mfdp/.venv/lib/python3.8/site-packages (from seaborn) (1.24.2)\n",
      "Requirement already satisfied: pandas>=0.25 in /home/kartushov/pet_projects/mfdp/.venv/lib/python3.8/site-packages (from seaborn) (1.5.3)\n",
      "Requirement already satisfied: cycler>=0.10 in /home/kartushov/pet_projects/mfdp/.venv/lib/python3.8/site-packages (from matplotlib!=3.6.1,>=3.1->seaborn) (0.11.0)\n",
      "Requirement already satisfied: packaging>=20.0 in /home/kartushov/pet_projects/mfdp/.venv/lib/python3.8/site-packages (from matplotlib!=3.6.1,>=3.1->seaborn) (23.0)\n",
      "Requirement already satisfied: pyparsing>=2.3.1 in /home/kartushov/pet_projects/mfdp/.venv/lib/python3.8/site-packages (from matplotlib!=3.6.1,>=3.1->seaborn) (3.0.9)\n",
      "Requirement already satisfied: contourpy>=1.0.1 in /home/kartushov/pet_projects/mfdp/.venv/lib/python3.8/site-packages (from matplotlib!=3.6.1,>=3.1->seaborn) (1.0.7)\n",
      "Requirement already satisfied: pillow>=6.2.0 in /home/kartushov/pet_projects/mfdp/.venv/lib/python3.8/site-packages (from matplotlib!=3.6.1,>=3.1->seaborn) (9.5.0)\n",
      "Requirement already satisfied: fonttools>=4.22.0 in /home/kartushov/pet_projects/mfdp/.venv/lib/python3.8/site-packages (from matplotlib!=3.6.1,>=3.1->seaborn) (4.39.4)\n",
      "Requirement already satisfied: kiwisolver>=1.0.1 in /home/kartushov/pet_projects/mfdp/.venv/lib/python3.8/site-packages (from matplotlib!=3.6.1,>=3.1->seaborn) (1.4.4)\n",
      "Requirement already satisfied: importlib-resources>=3.2.0; python_version < \"3.10\" in /home/kartushov/pet_projects/mfdp/.venv/lib/python3.8/site-packages (from matplotlib!=3.6.1,>=3.1->seaborn) (5.12.0)\n",
      "Requirement already satisfied: python-dateutil>=2.7 in /home/kartushov/pet_projects/mfdp/.venv/lib/python3.8/site-packages (from matplotlib!=3.6.1,>=3.1->seaborn) (2.8.2)\n",
      "Requirement already satisfied: pytz>=2020.1 in /home/kartushov/pet_projects/mfdp/.venv/lib/python3.8/site-packages (from pandas>=0.25->seaborn) (2022.7.1)\n",
      "Requirement already satisfied: zipp>=3.1.0; python_version < \"3.10\" in /home/kartushov/pet_projects/mfdp/.venv/lib/python3.8/site-packages (from importlib-resources>=3.2.0; python_version < \"3.10\"->matplotlib!=3.6.1,>=3.1->seaborn) (3.15.0)\n",
      "Requirement already satisfied: six>=1.5 in /home/kartushov/pet_projects/mfdp/.venv/lib/python3.8/site-packages (from python-dateutil>=2.7->matplotlib!=3.6.1,>=3.1->seaborn) (1.10.0)\n",
      "Installing collected packages: seaborn\n",
      "Successfully installed seaborn-0.12.2\n"
     ]
    }
   ],
   "source": [
    "#!pip install matplotlib\n",
    "#!pip install seaborn"
   ]
  },
  {
   "cell_type": "code",
   "execution_count": 6,
   "metadata": {
    "tags": []
   },
   "outputs": [
    {
     "data": {
      "image/png": "[encoded data removed]",
      "text/plain": [
       "<Figure size 1440x720 with 1 Axes>"
      ]
     },
     "metadata": {},
     "output_type": "display_data"
    }
   ],
   "source": [
    "import seaborn as sns\n",
    "from matplotlib import pyplot as plt \n",
    "\n",
    "# Создание графика\n",
    "plt.rcParams['figure.dpi'] = 120\n",
    "fig = plt.figure(figsize=(12, 6), facecolor='#f6f5f5')\n",
    "background_color = \"#f6f5f5\"\n",
    "gs = fig.add_gridspec(1, 1)\n",
    "gs.update(wspace=0.4, hspace=0.2)\n",
    "ax0 = fig.add_subplot(gs[0, 0])\n",
    "for s in [\"right\", \"top\"]:\n",
    "    ax0.spines[s].set_visible(False)\n",
    "ax0.set_facecolor(background_color)\n",
    "\n",
    "ax0_sns = sns.countplot(ax=ax0, x='age', hue='sex', data=df_users, palette=['#0068c9', '#c9006b'], saturation=1, linewidth=0, zorder=2)\n",
    "ax0_sns.set_xlabel('Возраст', fontsize=12, fontweight='bold')\n",
    "ax0_sns.set_ylabel('Количество пользователей', fontsize=12, fontweight='bold')\n",
    "ax0_sns.tick_params(labelsize=10, width=0.5, length=1.5)\n",
    "ax0_sns.grid(which='major', axis='x', zorder=0, color='#EEEEEE', linewidth=0.4)\n",
    "ax0_sns.grid(which='major', axis='y', zorder=0, color='#EEEEEE', linewidth=0.4)\n",
    "# Настройка легенды\n",
    "ax0_sns.legend(['Мужчины', 'Женщины'], fontsize=10, ncol=2, loc='upper center', facecolor=background_color, edgecolor=background_color)\n",
    "\n",
    "plt.title('Распределение пользователей по возрасту и полу', fontsize=20, fontweight='bold', y=1.10)\n",
    "\n",
    "# Отображение графика\n",
    "plt.show()\n"
   ]
  },
  {
   "cell_type": "code",
   "execution_count": 7,
   "metadata": {},
   "outputs": [
    {
     "name": "stdout",
     "output_type": "stream",
     "text": [
      "             progress    rating\n",
      "age    sex                     \n",
      "18_24  0.0  45.565741  4.618551\n",
      "       1.0  44.356996  4.614404\n",
      "25_34  0.0  48.390439  4.611819\n",
      "       1.0  47.041480  4.597734\n",
      "35_44  0.0  49.470341  4.617775\n",
      "       1.0  46.985242  4.564111\n",
      "45_54  0.0  50.653962  4.577381\n",
      "       1.0  49.301899  4.604317\n",
      "55_64  0.0  52.266832  4.497678\n",
      "       1.0  48.540460  4.533316\n",
      "65_inf 0.0  51.505589  4.576918\n",
      "       1.0  45.687778  4.451341\n"
     ]
    }
   ],
   "source": [
    "import pandas as pd\n",
    "\n",
    "\n",
    "# Группировка данных\n",
    "df_grouped = df_merged.groupby(['age', 'sex'])[['progress', 'rating']].mean()\n",
    "\n",
    "# Вывод результата\n",
    "print(df_grouped)\n"
   ]
  },
  {
   "cell_type": "code",
   "execution_count": 21,
   "metadata": {},
   "outputs": [
    {
     "data": {
      "image/png": "[encoded data removed]",
      "text/plain": [
       "<Figure size 1920x960 with 2 Axes>"
      ]
     },
     "metadata": {},
     "output_type": "display_data"
    }
   ],
   "source": [
    "import seaborn as sns\n",
    "\n",
    "# Создание графика\n",
    "fig = plt.figure(figsize=(16, 8), facecolor=\"#f6f5f5\")\n",
    "gs = fig.add_gridspec(2, 1)\n",
    "gs.update(wspace=0.4, hspace=0.2)\n",
    "\n",
    "background_color = \"#f6f5f5\"\n",
    "\n",
    "# Объединение датафреймов\n",
    "df_merged = pd.merge(df, df_users, on=\"user_id\")\n",
    "\n",
    "# Построение гистограмм\n",
    "ax0 = fig.add_subplot(gs[0, 0])\n",
    "ax0_sns = sns.histplot(\n",
    "    ax=ax0,\n",
    "    data=df_merged,\n",
    "    x=\"rating\",\n",
    "    linewidth=0,\n",
    "    alpha=1,\n",
    "    zorder=2,\n",
    ")\n",
    "\n",
    "ax0_sns.set_xlabel(\"Рейтинг\", fontsize=12, fontweight=\"bold\")\n",
    "ax0_sns.set_ylabel(\"Количество пользователей\", fontsize=12, fontweight=\"bold\")\n",
    "ax0_sns.tick_params(labelsize=10, width=0.5, length=1.5)\n",
    "ax0_sns.grid(which=\"major\", axis=\"x\", zorder=0, color=\"#EEEEEE\", linewidth=0.4)\n",
    "ax0_sns.grid(which=\"major\", axis=\"y\", zorder=0, color=\"#EEEEEE\", linewidth=0.4)\n",
    "\n",
    "ax1 = fig.add_subplot(gs[1, 0])\n",
    "ax1_sns = sns.kdeplot(\n",
    "    ax=ax1, data=df_merged, x=\"progress\", alpha=1,\n",
    ")\n",
    "ax1_sns.set_xlabel(\"Прогресс\", fontsize=12, fontweight=\"bold\")\n",
    "ax1_sns.set_ylabel(\"Плотность распределения\", fontsize=12, fontweight=\"bold\")\n",
    "ax1_sns.tick_params(labelsize=10, width=0.5, length=1.5)\n",
    "ax1_sns.grid(which=\"major\", axis=\"x\", zorder=0, color=\"#EEEEEE\", linewidth=0.4)\n",
    "ax1_sns.grid(which=\"major\", axis=\"y\", zorder=0, color=\"#EEEEEE\", linewidth=0.4)\n",
    "\n",
    "for s in [\"right\", \"top\"]:\n",
    "    ax0.spines[s].set_visible(False)\n",
    "    ax1.spines[s].set_visible(False)\n",
    "ax0.set_facecolor(background_color)\n",
    "ax1.set_facecolor(background_color)\n"
   ]
  },
  {
   "cell_type": "markdown",
   "metadata": {},
   "source": [
    "## Какие жанры предпочитают пользователи?"
   ]
  },
  {
   "cell_type": "code",
   "execution_count": 30,
   "metadata": {},
   "outputs": [
    {
     "data": {
      "text/plain": [
       "genre\n",
       "Современные детективы                                                                              51879.0\n",
       "Современная русская литература                                                                     50835.0\n",
       "Иронические детективы                                                                              33180.0\n",
       "Зарубежные любовные романы,Короткие любовные романы                                                27738.0\n",
       "Любовное фэнтези                                                                                   21989.0\n",
       "                                                                                                    ...   \n",
       "Французский язык,Зарубежная классика,Литература 19 века,Классические любовные романы                   0.0\n",
       "Музыка,Афоризмы и цитаты,Биографии и мемуары                                                           0.0\n",
       "Французский язык,Детская проза,Зарубежная классика                                                     0.0\n",
       "Фольклор,Французский язык,Европейская старинная литература                                             0.0\n",
       "Книги о приключениях,Социальная фантастика,Любовно-фантастические романы,Космическая фантастика        0.0\n",
       "Name: rating, Length: 10782, dtype: float64"
      ]
     },
     "metadata": {},
     "output_type": "display_data"
    },
    {
     "data": {
      "text/plain": [
       "genre\n",
       "Современная русская литература                                           58578\n",
       "Современные детективы                                                    42897\n",
       "Иронические детективы                                                    22283\n",
       "Современная зарубежная литература                                        21506\n",
       "Зарубежные любовные романы,Короткие любовные романы                      19798\n",
       "                                                                         ...  \n",
       "Стимпанк,Детективное фэнтези,Историческая фантастика,Любовное фэнтези        5\n",
       "Управление персоналом,Коучинг                                                4\n",
       "Учебники и пособия для вузов,Органы юстиции,Правоведение                     4\n",
       "Военное дело,Документальная литература,Публицистика                          4\n",
       "Издательское дело,Биографии и мемуары,Документальная литература              3\n",
       "Name: user_id, Length: 10782, dtype: int64"
      ]
     },
     "metadata": {},
     "output_type": "display_data"
    }
   ],
   "source": [
    "merged_df = pd.merge(df, df_items, left_on='item_id', right_on='id')\n",
    "merged_df['genre'] = merged_df['genres'].str.split(', ')\n",
    "unique_genres = merged_df.explode('genre')['genre'].unique()\n",
    "\n",
    "# Самые залайканные жанры\n",
    "top_genres = merged_df.explode('genre').groupby('genre')['rating'].sum().sort_values(ascending=False)\n",
    "\n",
    "# Самые популярные жанры по дням\n",
    "daily_views = merged_df.explode('genre')\n",
    "daily_views['start_date'] = pd.to_datetime(daily_views['start_date'])\n",
    "daily_views = daily_views.groupby(['genre', pd.Grouper(key='start_date', freq='D')])['user_id'].nunique().reset_index()\n",
    "top_daily_views = daily_views.groupby('genre')['user_id'].sum().sort_values(ascending=False)\n",
    "display(top_genres)\n",
    "display(top_daily_views)"
   ]
  },
  {
   "cell_type": "code",
   "execution_count": null,
   "metadata": {
    "tags": []
   },
   "outputs": [
    {
     "data": {
      "text/plain": [
       "array([2, '18_24', 0.0], dtype=object)"
      ]
     },
     "execution_count": 5,
     "metadata": {},
     "output_type": "execute_result"
    }
   ],
   "source": [
    "df_users[df_users[\"user_id\"] == 2].values.squeeze()"
   ]
  },
  {
   "cell_type": "code",
   "execution_count": null,
   "metadata": {
    "tags": []
   },
   "outputs": [
    {
     "name": "stdout",
     "output_type": "stream",
     "text": [
      "<class 'pandas.core.frame.DataFrame'>\n",
      "RangeIndex: 142888 entries, 0 to 142887\n",
      "Data columns (total 3 columns):\n",
      " #   Column   Non-Null Count   Dtype  \n",
      "---  ------   --------------   -----  \n",
      " 0   user_id  142888 non-null  int64  \n",
      " 1   age      142742 non-null  object \n",
      " 2   sex      136626 non-null  float64\n",
      "dtypes: float64(1), int64(1), object(1)\n",
      "memory usage: 3.3+ MB\n"
     ]
    }
   ],
   "source": [
    "df_users.info()"
   ]
  },
  {
   "cell_type": "code",
   "execution_count": null,
   "metadata": {
    "tags": []
   },
   "outputs": [
    {
     "data": {
      "text/html": [
       "<div>\n",
       "<style scoped>\n",
       "    .dataframe tbody tr th:only-of-type {\n",
       "        vertical-align: middle;\n",
       "    }\n",
       "\n",
       "    .dataframe tbody tr th {\n",
       "        vertical-align: top;\n",
       "    }\n",
       "\n",
       "    .dataframe thead th {\n",
       "        text-align: right;\n",
       "    }\n",
       "</style>\n",
       "<table border=\"1\" class=\"dataframe\">\n",
       "  <thead>\n",
       "    <tr style=\"text-align: right;\">\n",
       "      <th></th>\n",
       "      <th>user_id</th>\n",
       "      <th>age</th>\n",
       "      <th>sex</th>\n",
       "    </tr>\n",
       "  </thead>\n",
       "  <tbody>\n",
       "    <tr>\n",
       "      <th>0</th>\n",
       "      <td>1</td>\n",
       "      <td>45_54</td>\n",
       "      <td>NaN</td>\n",
       "    </tr>\n",
       "    <tr>\n",
       "      <th>1</th>\n",
       "      <td>2</td>\n",
       "      <td>18_24</td>\n",
       "      <td>0.0</td>\n",
       "    </tr>\n",
       "    <tr>\n",
       "      <th>2</th>\n",
       "      <td>3</td>\n",
       "      <td>65_inf</td>\n",
       "      <td>0.0</td>\n",
       "    </tr>\n",
       "    <tr>\n",
       "      <th>3</th>\n",
       "      <td>4</td>\n",
       "      <td>18_24</td>\n",
       "      <td>0.0</td>\n",
       "    </tr>\n",
       "    <tr>\n",
       "      <th>4</th>\n",
       "      <td>5</td>\n",
       "      <td>35_44</td>\n",
       "      <td>0.0</td>\n",
       "    </tr>\n",
       "  </tbody>\n",
       "</table>\n",
       "</div>"
      ],
      "text/plain": [
       "   user_id     age  sex\n",
       "0        1   45_54  NaN\n",
       "1        2   18_24  0.0\n",
       "2        3  65_inf  0.0\n",
       "3        4   18_24  0.0\n",
       "4        5   35_44  0.0"
      ]
     },
     "execution_count": 7,
     "metadata": {},
     "output_type": "execute_result"
    }
   ],
   "source": [
    "df_users.head()"
   ]
  },
  {
   "cell_type": "code",
   "execution_count": null,
   "metadata": {
    "tags": []
   },
   "outputs": [
    {
     "data": {
      "text/html": [
       "<div>\n",
       "<style scoped>\n",
       "    .dataframe tbody tr th:only-of-type {\n",
       "        vertical-align: middle;\n",
       "    }\n",
       "\n",
       "    .dataframe tbody tr th {\n",
       "        vertical-align: top;\n",
       "    }\n",
       "\n",
       "    .dataframe thead th {\n",
       "        text-align: right;\n",
       "    }\n",
       "</style>\n",
       "<table border=\"1\" class=\"dataframe\">\n",
       "  <thead>\n",
       "    <tr style=\"text-align: right;\">\n",
       "      <th></th>\n",
       "      <th>id</th>\n",
       "      <th>title</th>\n",
       "      <th>genres</th>\n",
       "      <th>authors</th>\n",
       "      <th>year</th>\n",
       "    </tr>\n",
       "  </thead>\n",
       "  <tbody>\n",
       "    <tr>\n",
       "      <th>0</th>\n",
       "      <td>128115</td>\n",
       "      <td>Ворон-челобитчик</td>\n",
       "      <td>Зарубежные детские книги,Сказки,Зарубежная кла...</td>\n",
       "      <td>Михаил Салтыков-Щедрин</td>\n",
       "      <td>1886</td>\n",
       "    </tr>\n",
       "    <tr>\n",
       "      <th>1</th>\n",
       "      <td>210979</td>\n",
       "      <td>Скрипка Ротшильда</td>\n",
       "      <td>Классическая проза,Литература 19 века,Русская ...</td>\n",
       "      <td>Антон Чехов</td>\n",
       "      <td>1894</td>\n",
       "    </tr>\n",
       "    <tr>\n",
       "      <th>2</th>\n",
       "      <td>95632</td>\n",
       "      <td>Испорченные дети</td>\n",
       "      <td>Зарубежная классика,Классическая проза,Литерат...</td>\n",
       "      <td>Михаил Салтыков-Щедрин</td>\n",
       "      <td>1869</td>\n",
       "    </tr>\n",
       "    <tr>\n",
       "      <th>3</th>\n",
       "      <td>247906</td>\n",
       "      <td>Странный человек</td>\n",
       "      <td>Пьесы и драматургия,Литература 19 века</td>\n",
       "      <td>Михаил Лермонтов</td>\n",
       "      <td>1831</td>\n",
       "    </tr>\n",
       "    <tr>\n",
       "      <th>4</th>\n",
       "      <td>294280</td>\n",
       "      <td>Господа ташкентцы</td>\n",
       "      <td>Зарубежная классика,Классическая проза,Литерат...</td>\n",
       "      <td>Михаил Салтыков-Щедрин</td>\n",
       "      <td>1873</td>\n",
       "    </tr>\n",
       "  </tbody>\n",
       "</table>\n",
       "</div>"
      ],
      "text/plain": [
       "       id              title  \\\n",
       "0  128115   Ворон-челобитчик   \n",
       "1  210979  Скрипка Ротшильда   \n",
       "2   95632   Испорченные дети   \n",
       "3  247906   Странный человек   \n",
       "4  294280  Господа ташкентцы   \n",
       "\n",
       "                                              genres                 authors  \\\n",
       "0  Зарубежные детские книги,Сказки,Зарубежная кла...  Михаил Салтыков-Щедрин   \n",
       "1  Классическая проза,Литература 19 века,Русская ...             Антон Чехов   \n",
       "2  Зарубежная классика,Классическая проза,Литерат...  Михаил Салтыков-Щедрин   \n",
       "3             Пьесы и драматургия,Литература 19 века        Михаил Лермонтов   \n",
       "4  Зарубежная классика,Классическая проза,Литерат...  Михаил Салтыков-Щедрин   \n",
       "\n",
       "   year  \n",
       "0  1886  \n",
       "1  1894  \n",
       "2  1869  \n",
       "3  1831  \n",
       "4  1873  "
      ]
     },
     "execution_count": 8,
     "metadata": {},
     "output_type": "execute_result"
    }
   ],
   "source": [
    "df_items.head()"
   ]
  },
  {
   "cell_type": "markdown",
   "metadata": {
    "jp-MarkdownHeadingCollapsed": true,
    "tags": []
   },
   "source": [
    "# Cold Start"
   ]
  },
  {
   "cell_type": "markdown",
   "metadata": {
    "jp-MarkdownHeadingCollapsed": true,
    "tags": []
   },
   "source": [
    "## Возьмем самое популярное"
   ]
  },
  {
   "cell_type": "code",
   "execution_count": null,
   "metadata": {
    "tags": []
   },
   "outputs": [],
   "source": [
    "items_name = df_items[['id', 'title']].set_index('id').sort_index()"
   ]
  },
  {
   "cell_type": "code",
   "execution_count": null,
   "metadata": {
    "tags": []
   },
   "outputs": [],
   "source": [
    "items_count = pd.DataFrame(df[['item_id']].value_counts(), columns=['count']).sort_index()"
   ]
  },
  {
   "cell_type": "code",
   "execution_count": null,
   "metadata": {
    "tags": []
   },
   "outputs": [],
   "source": [
    "count_titles = items_name.merge(items_count, left_index=True, right_on='item_id')"
   ]
  },
  {
   "cell_type": "code",
   "execution_count": null,
   "metadata": {
    "tags": []
   },
   "outputs": [
    {
     "data": {
      "text/html": [
       "<div>\n",
       "<style scoped>\n",
       "    .dataframe tbody tr th:only-of-type {\n",
       "        vertical-align: middle;\n",
       "    }\n",
       "\n",
       "    .dataframe tbody tr th {\n",
       "        vertical-align: top;\n",
       "    }\n",
       "\n",
       "    .dataframe thead th {\n",
       "        text-align: right;\n",
       "    }\n",
       "</style>\n",
       "<table border=\"1\" class=\"dataframe\">\n",
       "  <thead>\n",
       "    <tr style=\"text-align: right;\">\n",
       "      <th></th>\n",
       "      <th>title</th>\n",
       "      <th>count</th>\n",
       "    </tr>\n",
       "    <tr>\n",
       "      <th>item_id</th>\n",
       "      <th></th>\n",
       "      <th></th>\n",
       "    </tr>\n",
       "  </thead>\n",
       "  <tbody>\n",
       "    <tr>\n",
       "      <th>99357</th>\n",
       "      <td>Сила подсознания, или Как изменить жизнь за 4 ...</td>\n",
       "      <td>6576</td>\n",
       "    </tr>\n",
       "    <tr>\n",
       "      <th>316995</th>\n",
       "      <td>Самая таинственная тайна и другие сюжеты</td>\n",
       "      <td>2706</td>\n",
       "    </tr>\n",
       "    <tr>\n",
       "      <th>109201</th>\n",
       "      <td>Яблоки из сада Шлицбутера</td>\n",
       "      <td>2585</td>\n",
       "    </tr>\n",
       "    <tr>\n",
       "      <th>241026</th>\n",
       "      <td>Зелёная миля</td>\n",
       "      <td>2300</td>\n",
       "    </tr>\n",
       "    <tr>\n",
       "      <th>28889</th>\n",
       "      <td>Сказки для идиотов (сборник)</td>\n",
       "      <td>2287</td>\n",
       "    </tr>\n",
       "    <tr>\n",
       "      <th>121687</th>\n",
       "      <td>Снеговик</td>\n",
       "      <td>2245</td>\n",
       "    </tr>\n",
       "    <tr>\n",
       "      <th>243711</th>\n",
       "      <td>Противостояние</td>\n",
       "      <td>2143</td>\n",
       "    </tr>\n",
       "    <tr>\n",
       "      <th>288531</th>\n",
       "      <td>Инферно</td>\n",
       "      <td>2138</td>\n",
       "    </tr>\n",
       "    <tr>\n",
       "      <th>90225</th>\n",
       "      <td>Зулейха открывает глаза</td>\n",
       "      <td>2098</td>\n",
       "    </tr>\n",
       "    <tr>\n",
       "      <th>26963</th>\n",
       "      <td>Шантарам</td>\n",
       "      <td>2078</td>\n",
       "    </tr>\n",
       "  </tbody>\n",
       "</table>\n",
       "</div>"
      ],
      "text/plain": [
       "                                                     title  count\n",
       "item_id                                                          \n",
       "99357    Сила подсознания, или Как изменить жизнь за 4 ...   6576\n",
       "316995            Самая таинственная тайна и другие сюжеты   2706\n",
       "109201                           Яблоки из сада Шлицбутера   2585\n",
       "241026                                        Зелёная миля   2300\n",
       "28889                         Сказки для идиотов (сборник)   2287\n",
       "121687                                            Снеговик   2245\n",
       "243711                                      Противостояние   2143\n",
       "288531                                             Инферно   2138\n",
       "90225                              Зулейха открывает глаза   2098\n",
       "26963                                             Шантарам   2078"
      ]
     },
     "execution_count": 10,
     "metadata": {},
     "output_type": "execute_result"
    }
   ],
   "source": [
    "count_titles.sort_values(by='count', ascending=False).head(10)"
   ]
  },
  {
   "cell_type": "markdown",
   "metadata": {
    "jp-MarkdownHeadingCollapsed": true,
    "tags": []
   },
   "source": [
    "## Теперь попробуем почистить датасет"
   ]
  },
  {
   "cell_type": "code",
   "execution_count": 7,
   "metadata": {
    "tags": []
   },
   "outputs": [],
   "source": [
    "items_count = pd.DataFrame(df[df['progress'] > 40][['item_id']].value_counts(), columns=['count']).sort_index() "
   ]
  },
  {
   "cell_type": "code",
   "execution_count": 8,
   "metadata": {
    "tags": []
   },
   "outputs": [
    {
     "name": "stdout",
     "output_type": "stream",
     "text": [
      "Unexpected exception formatting exception. Falling back to standard exception\n"
     ]
    },
    {
     "name": "stderr",
     "output_type": "stream",
     "text": [
      "Traceback (most recent call last):\n",
      "  File \"/home/kartushov/pet_projects/mfdp/.venv/lib/python3.8/site-packages/IPython/core/interactiveshell.py\", line 3460, in run_code\n",
      "    exec(code_obj, self.user_global_ns, self.user_ns)\n",
      "  File \"/tmp/ipykernel_94180/1837410745.py\", line 1, in <module>\n",
      "    count_titles = items_name.merge(items_count, left_index=True, right_on='item_id')\n",
      "NameError: name 'items_name' is not defined\n",
      "\n",
      "During handling of the above exception, another exception occurred:\n",
      "\n",
      "Traceback (most recent call last):\n",
      "  File \"/home/kartushov/pet_projects/mfdp/.venv/lib/python3.8/site-packages/IPython/core/interactiveshell.py\", line 2057, in showtraceback\n",
      "    stb = self.InteractiveTB.structured_traceback(\n",
      "  File \"/home/kartushov/pet_projects/mfdp/.venv/lib/python3.8/site-packages/IPython/core/ultratb.py\", line 1288, in structured_traceback\n",
      "    return FormattedTB.structured_traceback(\n",
      "  File \"/home/kartushov/pet_projects/mfdp/.venv/lib/python3.8/site-packages/IPython/core/ultratb.py\", line 1177, in structured_traceback\n",
      "    return VerboseTB.structured_traceback(\n",
      "  File \"/home/kartushov/pet_projects/mfdp/.venv/lib/python3.8/site-packages/IPython/core/ultratb.py\", line 1030, in structured_traceback\n",
      "    formatted_exception = self.format_exception_as_a_whole(etype, evalue, etb, number_of_lines_of_context,\n",
      "  File \"/home/kartushov/pet_projects/mfdp/.venv/lib/python3.8/site-packages/IPython/core/ultratb.py\", line 960, in format_exception_as_a_whole\n",
      "    frames.append(self.format_record(record))\n",
      "  File \"/home/kartushov/pet_projects/mfdp/.venv/lib/python3.8/site-packages/IPython/core/ultratb.py\", line 870, in format_record\n",
      "    frame_info.lines, Colors, self.has_colors, lvals\n",
      "  File \"/home/kartushov/pet_projects/mfdp/.venv/lib/python3.8/site-packages/IPython/core/ultratb.py\", line 704, in lines\n",
      "    return self._sd.lines\n",
      "  File \"/home/kartushov/pet_projects/mfdp/.venv/lib/python3.8/site-packages/stack_data/utils.py\", line 144, in cached_property_wrapper\n",
      "    value = obj.__dict__[self.func.__name__] = self.func(obj)\n",
      "  File \"/home/kartushov/pet_projects/mfdp/.venv/lib/python3.8/site-packages/stack_data/core.py\", line 734, in lines\n",
      "    pieces = self.included_pieces\n",
      "  File \"/home/kartushov/pet_projects/mfdp/.venv/lib/python3.8/site-packages/stack_data/utils.py\", line 144, in cached_property_wrapper\n",
      "    value = obj.__dict__[self.func.__name__] = self.func(obj)\n",
      "  File \"/home/kartushov/pet_projects/mfdp/.venv/lib/python3.8/site-packages/stack_data/core.py\", line 677, in included_pieces\n",
      "    scope_pieces = self.scope_pieces\n",
      "  File \"/home/kartushov/pet_projects/mfdp/.venv/lib/python3.8/site-packages/stack_data/utils.py\", line 144, in cached_property_wrapper\n",
      "    value = obj.__dict__[self.func.__name__] = self.func(obj)\n",
      "  File \"/home/kartushov/pet_projects/mfdp/.venv/lib/python3.8/site-packages/stack_data/core.py\", line 614, in scope_pieces\n",
      "    scope_start, scope_end = self.source.line_range(self.scope)\n",
      "  File \"/home/kartushov/pet_projects/mfdp/.venv/lib/python3.8/site-packages/stack_data/core.py\", line 178, in line_range\n",
      "    return line_range(self.asttext(), node)\n",
      "  File \"/home/kartushov/pet_projects/mfdp/.venv/lib/python3.8/site-packages/executing/executing.py\", line 428, in asttext\n",
      "    self._asttext = ASTText(self.text, tree=self.tree, filename=self.filename)\n",
      "  File \"/home/kartushov/pet_projects/mfdp/.venv/lib/python3.8/site-packages/asttokens/asttokens.py\", line 307, in __init__\n",
      "    super(ASTText, self).__init__(source_text, filename)\n",
      "  File \"/home/kartushov/pet_projects/mfdp/.venv/lib/python3.8/site-packages/asttokens/asttokens.py\", line 44, in __init__\n",
      "    source_text = six.ensure_text(source_text)\n",
      "AttributeError: module 'six' has no attribute 'ensure_text'\n"
     ]
    }
   ],
   "source": [
    "count_titles = items_name.merge(items_count, left_index=True, right_on='item_id')"
   ]
  },
  {
   "cell_type": "code",
   "execution_count": 9,
   "metadata": {
    "tags": []
   },
   "outputs": [
    {
     "name": "stdout",
     "output_type": "stream",
     "text": [
      "Unexpected exception formatting exception. Falling back to standard exception\n"
     ]
    },
    {
     "name": "stderr",
     "output_type": "stream",
     "text": [
      "Traceback (most recent call last):\n",
      "  File \"/home/kartushov/pet_projects/mfdp/.venv/lib/python3.8/site-packages/IPython/core/interactiveshell.py\", line 3460, in run_code\n",
      "    exec(code_obj, self.user_global_ns, self.user_ns)\n",
      "  File \"/tmp/ipykernel_94180/601709198.py\", line 1, in <module>\n",
      "    count_titles.sort_values(by='count', ascending=False).head(10)\n",
      "NameError: name 'count_titles' is not defined\n",
      "\n",
      "During handling of the above exception, another exception occurred:\n",
      "\n",
      "Traceback (most recent call last):\n",
      "  File \"/home/kartushov/pet_projects/mfdp/.venv/lib/python3.8/site-packages/IPython/core/interactiveshell.py\", line 2057, in showtraceback\n",
      "    stb = self.InteractiveTB.structured_traceback(\n",
      "  File \"/home/kartushov/pet_projects/mfdp/.venv/lib/python3.8/site-packages/IPython/core/ultratb.py\", line 1288, in structured_traceback\n",
      "    return FormattedTB.structured_traceback(\n",
      "  File \"/home/kartushov/pet_projects/mfdp/.venv/lib/python3.8/site-packages/IPython/core/ultratb.py\", line 1177, in structured_traceback\n",
      "    return VerboseTB.structured_traceback(\n",
      "  File \"/home/kartushov/pet_projects/mfdp/.venv/lib/python3.8/site-packages/IPython/core/ultratb.py\", line 1030, in structured_traceback\n",
      "    formatted_exception = self.format_exception_as_a_whole(etype, evalue, etb, number_of_lines_of_context,\n",
      "  File \"/home/kartushov/pet_projects/mfdp/.venv/lib/python3.8/site-packages/IPython/core/ultratb.py\", line 960, in format_exception_as_a_whole\n",
      "    frames.append(self.format_record(record))\n",
      "  File \"/home/kartushov/pet_projects/mfdp/.venv/lib/python3.8/site-packages/IPython/core/ultratb.py\", line 870, in format_record\n",
      "    frame_info.lines, Colors, self.has_colors, lvals\n",
      "  File \"/home/kartushov/pet_projects/mfdp/.venv/lib/python3.8/site-packages/IPython/core/ultratb.py\", line 704, in lines\n",
      "    return self._sd.lines\n",
      "  File \"/home/kartushov/pet_projects/mfdp/.venv/lib/python3.8/site-packages/stack_data/utils.py\", line 144, in cached_property_wrapper\n",
      "    value = obj.__dict__[self.func.__name__] = self.func(obj)\n",
      "  File \"/home/kartushov/pet_projects/mfdp/.venv/lib/python3.8/site-packages/stack_data/core.py\", line 734, in lines\n",
      "    pieces = self.included_pieces\n",
      "  File \"/home/kartushov/pet_projects/mfdp/.venv/lib/python3.8/site-packages/stack_data/utils.py\", line 144, in cached_property_wrapper\n",
      "    value = obj.__dict__[self.func.__name__] = self.func(obj)\n",
      "  File \"/home/kartushov/pet_projects/mfdp/.venv/lib/python3.8/site-packages/stack_data/core.py\", line 677, in included_pieces\n",
      "    scope_pieces = self.scope_pieces\n",
      "  File \"/home/kartushov/pet_projects/mfdp/.venv/lib/python3.8/site-packages/stack_data/utils.py\", line 144, in cached_property_wrapper\n",
      "    value = obj.__dict__[self.func.__name__] = self.func(obj)\n",
      "  File \"/home/kartushov/pet_projects/mfdp/.venv/lib/python3.8/site-packages/stack_data/core.py\", line 614, in scope_pieces\n",
      "    scope_start, scope_end = self.source.line_range(self.scope)\n",
      "  File \"/home/kartushov/pet_projects/mfdp/.venv/lib/python3.8/site-packages/stack_data/core.py\", line 178, in line_range\n",
      "    return line_range(self.asttext(), node)\n",
      "  File \"/home/kartushov/pet_projects/mfdp/.venv/lib/python3.8/site-packages/executing/executing.py\", line 428, in asttext\n",
      "    self._asttext = ASTText(self.text, tree=self.tree, filename=self.filename)\n",
      "  File \"/home/kartushov/pet_projects/mfdp/.venv/lib/python3.8/site-packages/asttokens/asttokens.py\", line 307, in __init__\n",
      "    super(ASTText, self).__init__(source_text, filename)\n",
      "  File \"/home/kartushov/pet_projects/mfdp/.venv/lib/python3.8/site-packages/asttokens/asttokens.py\", line 44, in __init__\n",
      "    source_text = six.ensure_text(source_text)\n",
      "AttributeError: module 'six' has no attribute 'ensure_text'\n"
     ]
    }
   ],
   "source": [
    "count_titles.sort_values(by='count', ascending=False).head(10)"
   ]
  },
  {
   "cell_type": "markdown",
   "metadata": {
    "tags": []
   },
   "source": [
    "## Посмотрим какие жанры популярны"
   ]
  },
  {
   "cell_type": "code",
   "execution_count": null,
   "metadata": {
    "tags": []
   },
   "outputs": [],
   "source": [
    "items_count = pd.DataFrame(df[df['progress'] > 40][['item_id']].value_counts(), columns=['count']).sort_index() "
   ]
  },
  {
   "cell_type": "code",
   "execution_count": null,
   "metadata": {
    "tags": []
   },
   "outputs": [],
   "source": [
    "items_name = df_items[['id', 'title', 'genres']].set_index('id').sort_index()"
   ]
  },
  {
   "cell_type": "code",
   "execution_count": null,
   "metadata": {
    "tags": []
   },
   "outputs": [
    {
     "data": {
      "text/plain": [
       "array(['Шантарам', 'Тень горы', 'Таинственный остров', 'Повелитель мух',\n",
       "       'Путешественник', 'Двадцать тысяч лье под водой',\n",
       "       'Два года каникул', 'Песчаный дьявол', 'Женская война',\n",
       "       'Граф Монте-Кристо', 'Плавающий город', 'Амазония',\n",
       "       'Костяной лабиринт', 'Всадник без головы', 'Шестое вымирание',\n",
       "       'Дети капитана Гранта', 'Седьмая казнь', 'Ледяные боги',\n",
       "       'Крепкие мужчины', 'Пещера', 'Пять недель на воздушном шаре',\n",
       "       'Мотылек', 'Айвенго', 'Приключения Тома Сойера', 'Сёгун',\n",
       "       'Две Дианы', 'Белый клык', 'Сердца трех', 'Дети капитана Гранта',\n",
       "       'Малыш', 'Тонкая работа', 'Первая ночь', 'Три мушкетера',\n",
       "       'Дальнейшие приключения Робинзона Крузо', 'Черная Индия',\n",
       "       'Королева Марго', 'Моби Дик, или Белый Кит', 'Песнь бича',\n",
       "       'Графиня де Монсоро', 'Ким', 'Юные путешественники',\n",
       "       'Королева Марго',\n",
       "       'Ужас на поле для гольфа. Приключения Жюля де Грандена (сборник)',\n",
       "       'Тайпан', 'Порочный круг', 'Айвенго', 'Влюбленные души',\n",
       "       'Принцесса Марса. Боги Марса. Владыка Марса (сборник)',\n",
       "       'Пророчество орла', 'Пират. Ключ к сокровищам',\n",
       "       'Викинги. Ирландская сага', 'Псих', 'Скиталец', 'Затерянный мир',\n",
       "       'Набег на устричных пиратов',\n",
       "       'Сын Красного Корсара. Последние флибустьеры',\n",
       "       'Америка глазами эмигранта. Том 1', 'Сальватор',\n",
       "       'Вокруг света за 80 дней (в сокращении)',\n",
       "       'Лев Святого Марка. Варфоломеевская ночь (сборник)',\n",
       "       'Любовь к жизни', 'Приключения капитана Гаттераса',\n",
       "       'Англия. Портрет народа', 'Герои Малахова кургана', 'Казан',\n",
       "       'Капитан Сорви-голова', 'Миссис Брэникен',\n",
       "       'Ночные всадники. Нарушители закона (сборник)',\n",
       "       'Черный Карлик. Легенда о Монтрозе (сборник)',\n",
       "       'Длинноногий дядюшка', 'Робинзон Крузо', 'Лонгхорнские распри',\n",
       "       'Любовь к жизни (сборник)', 'Хищные птицы', 'Черный корсар',\n",
       "       'Талисман (сборник)', 'Среди факиров', 'Млисс', 'Белый вождь',\n",
       "       'Таинственный остров',\n",
       "       'Тарзан из племени обезьян. Возвращение Тарзана. Тарзан и его звери (сборник)',\n",
       "       'Пятнадцатилетний капитан', 'Остров сокровищ',\n",
       "       'Последний из могикан', 'Осада, или Шахматы со смертью',\n",
       "       'Starlight Ranch, and Other Stories of Army Life on the Frontier',\n",
       "       'Катриона', 'Революция',\n",
       "       'В тени вечной красоты. Жизнь, смерть и любовь в трущобах Мумбая',\n",
       "       'Черный тюльпан. Учитель фехтования (сборник)',\n",
       "       'Джон Ячменное Зерно. Рассказы разных лет (сборник)',\n",
       "       'Как Копли Бэнкс прикончил капитана Шарки', 'Всадники равнин',\n",
       "       'Меч и ятаган', 'Остров Сокровищ',\n",
       "       'Подвиги бригадира Жерара. Приключения бригадира Жерара (сборник)',\n",
       "       'Похищенный', 'Чёрная стрела', 'Приключение в воздушном море',\n",
       "       'По желанию дамы',\n",
       "       'Капитан Алатристе. Чистая кровь. Испанская ярость. Золото короля (сборник)',\n",
       "       '«Блуждающий Огонь», или «Крыло-и-Крыло»',\n",
       "       'Затерянные в Шангри-Ла', 'Робинзон Крузо', 'Казан',\n",
       "       'Пираты. Рассказы о знаменитых разбойниках', 'Приёмыш обезьяны',\n",
       "       'Суд фараонов',\n",
       "       'Сын охотника на медведей. Тропа войны. Зверобой (сборник)',\n",
       "       'На Дальнем Западе',\n",
       "       'Белый клык. Любовь к жизни. Путешествие на «Ослепительном» (сборник)',\n",
       "       'Аку-аку. Тайна острова Пасхи', 'Квентин Дорвард',\n",
       "       'Клуб самоубийц', 'Красный корсар', 'Гризли (сборник)',\n",
       "       'Мастер Баллантрэ', 'Белая перчатка', 'Из Африки',\n",
       "       'Фирман султана', 'Золотой жук (сборник)',\n",
       "       'Сорок пять. Часть вторая, третья', 'Два года каникул', 'Ева',\n",
       "       'Копи царя Соломона',\n",
       "       'Талисман, или Ричард Львиное сердце в Палестине',\n",
       "       'Благородный Дом. Роман о Гонконге. Книга 2. Рискованная игра',\n",
       "       'Сокровище Голубых гор', 'Белый Клык (сборник)',\n",
       "       'Книжные странники', 'Лорды Белого замка', 'Золото Кахамарки',\n",
       "       'Сальватор. Книга I', 'Дочь Монтесумы', 'Два адмирала',\n",
       "       'Воспоминания мертвого пилота', 'Исповедь фаворитки',\n",
       "       'Остров Сокровищ',\n",
       "       'Великие тайны океанов. Средиземное море. Полярные моря. Флибустьерское море',\n",
       "       'Ацтек', 'Колония на кратере. «Морские львы» (сборник)',\n",
       "       'Приключения Найджела', 'Ладья викингов. Белые чужаки',\n",
       "       'Затерянный мир. Отравленный пояс. Когда мир вскрикнул (сборник)',\n",
       "       'Тарзан и сокровища Опара',\n",
       "       'Арсен Люпен – джентльмен-грабитель (сборник)',\n",
       "       'Прекрасные господа из Буа-Доре', 'Белый вождь',\n",
       "       'Железная маска (сборник)', 'Месть сыновей викинга',\n",
       "       'Посол Урус-Шайтана', 'Сердце Мира', 'Квартеронка', 'Жена короля',\n",
       "       'Пионеры, или У истоков Саскуиханны', 'Орел пустыни',\n",
       "       'Луговые разбойники', 'Отлив', 'Прогулка по лесам', 'Зверобой',\n",
       "       'Мужество женщины', 'Гробница судьбы', 'Наемник',\n",
       "       'Кровавое наследство', 'По зову судьбы', 'Монастырь',\n",
       "       'Белое безмолвие', 'На берегах Сакраменто',\n",
       "       'Злой рок короля Генриха', 'Последний кит. В северных водах',\n",
       "       'Ким', 'Игрок', 'Она', 'Укротитель диких',\n",
       "       'Ураган. Книга 2. Бегство из рая',\n",
       "       'Охотница за скальпами. Смертельные враги (сборник)', 'Гайдзин',\n",
       "       'На берегах Сакраменто', 'Священный Цветок. Суд фараонов',\n",
       "       'Белый Клык. Рассказы', 'След в ущелье Тимбэл',\n",
       "       'Как аргонавты в старину…', 'Пират', 'Сын Казана', 'Вне закона',\n",
       "       'Письма из райских кущ', 'Орли, сын Орлика', 'Краснокожие',\n",
       "       'Вокруг света с десятью су в кармане', 'Улыбка сорвиголовы',\n",
       "       'Неуловимый бандит', 'Самый безумный из маршрутов', 'Плач',\n",
       "       'Рагнар-викинг', 'Золотая молния', 'Неуловимый корсар',\n",
       "       'Тарзан и его звери', 'Предания о самураях',\n",
       "       'Трое в лодке, не считая собаки. Трое на четырех колесах (сборник)',\n",
       "       'Под знаменем Белого Волка', 'Потерпевшие кораблекрушение',\n",
       "       'Дочь снегов', 'Остров затерянных душ', 'Путешествия Гулливера',\n",
       "       'Белый отряд', 'Белые и желтые', 'Ночной всадник',\n",
       "       'Седьмой свиток', 'Служба на купеческом корабле',\n",
       "       'Гнев викинга. Ярмарка мести', 'Михаил Строгов',\n",
       "       'Мятеж на «Эльсиноре»', 'Избранное',\n",
       "       'Книга о разнообразии мира (Избранные главы)',\n",
       "       'Китобоец «Эссекс». В сердце моря (сборник)', 'Джуд неудачник',\n",
       "       'Остаться в живых',\n",
       "       'Робинзон Крузо. Дальнейшие приключения Робинзона Крузо (сборник)',\n",
       "       'Благородный Дом. Роман о Гонконге. Книга 1. На краю пропасти',\n",
       "       'Эдинбургская темница',\n",
       "       'Скарамуш. Возвращение Скарамуша (сборник)',\n",
       "       'Химия. Узнавай химию, читая классику. С комментарием химика',\n",
       "       'Сказки 1001 ночи (сборник)', 'Гаванский шторм',\n",
       "       'Приключения доисторического мальчика', 'Бандит с Черных Холмов',\n",
       "       'Сорок пять. Часть первая',\n",
       "       'Авантюристы. Морские бродяги. Золотая Кастилия (сборник)',\n",
       "       'Эверест. Кому и за что мстит гора?', 'Путешествия Гулливера',\n",
       "       'Виконт де Бражелон, или Десять лет спустя. Часть пятая',\n",
       "       'Похождения одной картонки', 'Раффлс, взломщик-любитель (сборник)',\n",
       "       'Три билета до Эдвенчер',\n",
       "       'Жизнь и удивительные приключения Робинзона Крузо',\n",
       "       'Талисман отчаянных',\n",
       "       'Балканские призраки. Пронзительное путешествие сквозь историю',\n",
       "       'Хищник', 'Путешествие на «Ослепительном»', 'Черный тюльпан',\n",
       "       'Царство. Паника', 'Лейденская красавица',\n",
       "       'Остров затонувших кораблей', 'Сальватор. Книга IV',\n",
       "       'Ганнибал. Кровавые поля', 'Flagelo',\n",
       "       'Похождения Червонного валета. Сокровища гугенотов',\n",
       "       'Морской волк', 'Старинный обычай. Часть первая', 'Тени Солнца',\n",
       "       'Исчезнувший фрегат',\n",
       "       'Дрейф. Вдохновляющая история изобретателя, потерпевшего кораблекрушение в открытом океане',\n",
       "       'Невеста пирата', 'Робин Гуд',\n",
       "       'Капитан Темпеста. Дамасский Лев. Дочери фараонов',\n",
       "       'Мудрость снежной тропы', 'Сэр Найджел Лоринг',\n",
       "       'Ламмермурская невеста', 'Люди тумана', '«Король греков»',\n",
       "       'Рыжий Орм. Путь викинга', 'Морской волк. Бог его отцов (сборник)',\n",
       "       'Диктатор', 'Охотники за жирафами',\n",
       "       'В дебрях Южной Африки, или Приключения бура и его семьи',\n",
       "       'Бог-скорпион', 'Легенда об Уленшпигеле',\n",
       "       'Возмутитель спокойствия',\n",
       "       'Вокруг света в восемьдесят дней. Двадцать тысяч лье под водой',\n",
       "       'Британия', 'Корабль-призрак', 'Возвращение Дестри',\n",
       "       'Двадцать тысяч лье под водой', 'Путешествия Лемюэля Гулливера',\n",
       "       'Отважные мореплаватели',\n",
       "       'Страна джунглей. В поисках мертвого города', 'Белая крепость',\n",
       "       'Сын Волка', 'Росс Полдарк',\n",
       "       'Паспорт человека мира. Путешествие сквозь 196 стран', 'Чужак',\n",
       "       'Двадцать лет спустя', 'Трагедия с «Короско»',\n",
       "       'Анкор. Последний принц Атлантиды', 'Джинго',\n",
       "       'Последний из могикан', 'Клуб самоубийц',\n",
       "       'Осада «Ланкаширской королевы»', 'Клеопатра', 'Затерянный остров',\n",
       "       'Вокруг света за восемьдесят дней', 'Убить человека',\n",
       "       'Тайна замка Роборэй. Виктóр из спецбригады', 'Гладиаторы',\n",
       "       'Железная маска',\n",
       "       'Лучшие романы Томаса Майна Рида / The Best of Thomas Mayne Reid',\n",
       "       'Жемчужина Востока', '«Кон-Тики»', 'Парень с границы',\n",
       "       'Пограничные стрелки',\n",
       "       'Авантюры Прантиша Вырвича, школяра и шпика', 'Ослокрады',\n",
       "       'Морской Ястреб. Одураченный Фортуной. Венецианская маска (сборник)',\n",
       "       'Повелитель мух / Lord of the Flies', 'Лепт',\n",
       "       'Зловещий гость (сборник)', 'Первый человек в Риме', 'Избранное',\n",
       "       'Речной бог', 'Новичок', 'Гнев майя',\n",
       "       'Потерянный город Обезьяньего бога', 'Дитя из слоновой кости',\n",
       "       'Экспедиция «Тигрис»', 'Ледовые пираты',\n",
       "       'Жизнь и приключения Мартина Чезлвита',\n",
       "       'Десять миллионов Красного Опоссума',\n",
       "       'Хозяин форта. Возвращение викинга',\n",
       "       'Меч Ислама. Псы Господни. Черный лебедь (сборник)',\n",
       "       'Костер в ночи. Мой брат Майкл. Башня из слоновой кости (сборник)',\n",
       "       'Великая загадка', 'Сказки 1001 ночи', 'Дочь северного сияния',\n",
       "       'Принц Отто', 'Последний из могикан',\n",
       "       'В снегах Аляски. Мятежные души', 'Приключения Айши (сборник)',\n",
       "       'Черный всадник',\n",
       "       'Черный Корсар. Королева Карибов. Иоланда, дочь Черного Корсара',\n",
       "       'Блеск шелка', 'Мятеж на «Эльсиноре»',\n",
       "       'Кавалер в желтом колете. Корсары Леванта. Мост Убийц (сборник)',\n",
       "       'Царство. Пророчество', 'Ганнибал. Бог войны',\n",
       "       'Четыре фрейлины двора Людовика XIV', 'Армагеддон. 1453',\n",
       "       'Братья по крови', 'Ворон. Сыны грома',\n",
       "       'Ураган. Книга 1. Потерянный рай', 'Птицы, звери и моя семья',\n",
       "       'Нада',\n",
       "       'Маргарита Валуа: Прелестная ювелирша. Любовница короля Наваррского',\n",
       "       'Тайфун у берегов Японии', 'Охота за слоновой костью',\n",
       "       'Из жизни авантюриста. Эмиссар (сборник)',\n",
       "       'Пересказ романа Майн Рида «Всадник без головы»',\n",
       "       'Сокровище Картахены. Береговое братство. Морские титаны (сборник)',\n",
       "       'Пионеры, или У истоков Сосквеганны. Хижина на холме, или Вайандоте (сборник)',\n",
       "       'Гром небесный. Дерево, увитое плющом. Терновая обитель (сборник)',\n",
       "       'Все приключения мушкетеров', 'Завещание мистера Мизона',\n",
       "       'Трагедия королевы', 'На пути к плахе', 'Короли океана',\n",
       "       'Captive mistress. English-language novels',\n",
       "       'Повелитель мух. Бог-скорпион (сборник)', 'Ошибка капитана Шарки',\n",
       "       'Ворон. Волки Одина', 'Пятнадцатилетний капитан',\n",
       "       'Семь троп Питера Куинса', 'Мари. Дитя Бури. Обреченный (сборник)',\n",
       "       'Чёрная стрела', 'Дарина – королева Франції, або Шляхами пірамід',\n",
       "       'Корсары Южных морей (сборник)', 'Бочка пресной воды',\n",
       "       'Последний из могикан',\n",
       "       'Под парусом в одиночку вокруг света. Первое одиночное, безостановочное, кругосветное плавание на парусной яхте',\n",
       "       'Ледяной ад', 'Посол Урус-Шайтана', 'Аллан Кватермэн',\n",
       "       'Приключения Тигрового кота', 'Клеопатра', 'Зимовка во льдах',\n",
       "       'White Fang', 'Нефертити', 'Тропа Джексона', 'Канадские поселенцы',\n",
       "       'Джерри-островитянин. Майкл, брат Джерри (сборник)', 'Братья',\n",
       "       'Одиночка Джек', 'Морские волки. Навстречу шторму (сборник)',\n",
       "       'Бунт на «Баунти»', 'Поющие револьверы', 'Фирман султана',\n",
       "       'На крыльях орла', 'Вокруг света за восемьдесят дней', 'Спартак',\n",
       "       'Землемер', 'Королева четырех королевств', 'Шелковый шнурок',\n",
       "       'Дорога на Север', 'Роб Рой', 'По Уссурийскому краю',\n",
       "       'Крушение «Великого Океана»', 'Перегруженный ковчег', 'Айвенго',\n",
       "       'Священный цветок. Чудовище по имени Хоу-Хоу. Она и Аллан. Сокровище озера',\n",
       "       'Путешествия и приключения капитана Гаттераса',\n",
       "       'Робинзон Крузо Краткий пересказ произведения Д. Дефо',\n",
       "       'Владыка мира', 'Смертельная погоня', 'Город Прокаженного короля',\n",
       "       'Люцифер. Том 1', 'Скарамуш', 'Деметриос Контос',\n",
       "       'Зверь (сборник)', 'Мопра', 'Опасная игра',\n",
       "       'Девушка с жемчужной сережкой', 'Миф Линкольна',\n",
       "       'На суше и на море. Сатанстое (сборник)',\n",
       "       'Старинный обычай. Часть вторая', 'Плененная фаворитка',\n",
       "       'Вокруг света за восемьдесят дней', 'Рабы Парижа', 'Королева озер',\n",
       "       'Дорогой мести', 'Путешествия Гулливера',\n",
       "       'На троне Великого деда. Жизнь и смерть Петра III', 'В манграх',\n",
       "       'Белая скво', 'Король сыщиков (сборник)', 'Браво, или В Венеции',\n",
       "       \"П'ятнадцятирічний капітан\",\n",
       "       'Дзэн и искусство ухода за мотоциклом', 'Дорога ветров',\n",
       "       'Тропой дружбы', '«Ра»', 'Любовь и ветер', 'Ученик архитектора',\n",
       "       'Спасенный браконьер', 'Аэша', 'Зеленый луч',\n",
       "       'Вокруг света за 80 дней. Михаил Строгов (сборник)',\n",
       "       'Белый эскимос', 'Остров Сокровищ',\n",
       "       'Черный Красавчик: история лошади, рассказанная ею самою',\n",
       "       'Перстень царицы Савской (сборник)', 'Лик в бездне',\n",
       "       'Приключения капитана Коркорана', 'Приключения Робинзона Крузо',\n",
       "       'Рождённая в ночи', 'Монмартрская сирота', 'Путешествия Гулливера',\n",
       "       'Голубой горизонт', 'Певерил Пик', 'Остров Пасхи',\n",
       "       'Мчащиеся мустанги', 'Амулет. Святой. Паж Густава Адольфа',\n",
       "       'The Black Arrow', 'Приключения бригадира Жерара',\n",
       "       'В сердце моря. Трагедия китобойного судна «Эссекс»',\n",
       "       'Приключения в стране бизонов', 'Люцифер. Том 2'], dtype=object)"
      ]
     },
     "execution_count": 117,
     "metadata": {},
     "output_type": "execute_result"
    }
   ],
   "source": [
    "items_count = pd.DataFrame(\n",
    "            df[df[\"progress\"] > 40][[\"item_id\"]].value_counts(), columns=[\"count\"]\n",
    "    ).sort_index()\n",
    "    items_name = df_items[['id', 'title', 'genres']].set_index('id').sort_index()\n",
    "    items_name.genres = items_name.genres.fillna('Другие жанры')\n",
    "    items_name.genres = items_name.genres.apply(lambda x: x.split(','))\n",
    "    items_name_exlode = items_name.explode(column='genres')\n",
    "    items_name_exlode = items_name_exlode[items_name_exlode['genres'] == 'Зарубежные приключения'][['title']]\n",
    "    count_titles = items_name_exlode.merge(items_count, left_index=True, right_on='item_id')\n",
    "\n",
    "count_titles.sort_values(by='count', ascending=False)['title'].values[:n]"
   ]
  },
  {
   "cell_type": "code",
   "execution_count": null,
   "metadata": {},
   "outputs": [],
   "source": [
    "count_titles.genres = count_titles.genres.fillna('NaN')"
   ]
  },
  {
   "cell_type": "code",
   "execution_count": null,
   "metadata": {},
   "outputs": [],
   "source": [
    "count_titles.genres = count_titles.genres.apply(lambda x: x.split(','))"
   ]
  },
  {
   "cell_type": "code",
   "execution_count": null,
   "metadata": {},
   "outputs": [],
   "source": [
    "count_titles_exlode = count_titles.explode(column='genres') #.pivot_table(index='title', columns='genres')"
   ]
  },
  {
   "cell_type": "code",
   "execution_count": null,
   "metadata": {},
   "outputs": [
    {
     "data": {
      "text/html": [
       "<div>\n",
       "<style scoped>\n",
       "    .dataframe tbody tr th:only-of-type {\n",
       "        vertical-align: middle;\n",
       "    }\n",
       "\n",
       "    .dataframe tbody tr th {\n",
       "        vertical-align: top;\n",
       "    }\n",
       "\n",
       "    .dataframe thead th {\n",
       "        text-align: right;\n",
       "    }\n",
       "</style>\n",
       "<table border=\"1\" class=\"dataframe\">\n",
       "  <thead>\n",
       "    <tr style=\"text-align: right;\">\n",
       "      <th></th>\n",
       "      <th>title</th>\n",
       "      <th>count</th>\n",
       "    </tr>\n",
       "    <tr>\n",
       "      <th>item_id</th>\n",
       "      <th></th>\n",
       "      <th></th>\n",
       "    </tr>\n",
       "  </thead>\n",
       "  <tbody>\n",
       "    <tr>\n",
       "      <th>26963</th>\n",
       "      <td>Шантарам</td>\n",
       "      <td>462</td>\n",
       "    </tr>\n",
       "    <tr>\n",
       "      <th>306416</th>\n",
       "      <td>Тень горы</td>\n",
       "      <td>136</td>\n",
       "    </tr>\n",
       "    <tr>\n",
       "      <th>292066</th>\n",
       "      <td>Таинственный остров</td>\n",
       "      <td>112</td>\n",
       "    </tr>\n",
       "    <tr>\n",
       "      <th>198593</th>\n",
       "      <td>Повелитель мух</td>\n",
       "      <td>86</td>\n",
       "    </tr>\n",
       "    <tr>\n",
       "      <th>108078</th>\n",
       "      <td>Путешественник</td>\n",
       "      <td>59</td>\n",
       "    </tr>\n",
       "    <tr>\n",
       "      <th>...</th>\n",
       "      <td>...</td>\n",
       "      <td>...</td>\n",
       "    </tr>\n",
       "    <tr>\n",
       "      <th>284119</th>\n",
       "      <td>The Black Arrow</td>\n",
       "      <td>2</td>\n",
       "    </tr>\n",
       "    <tr>\n",
       "      <th>22209</th>\n",
       "      <td>Приключения бригадира Жерара</td>\n",
       "      <td>2</td>\n",
       "    </tr>\n",
       "    <tr>\n",
       "      <th>170237</th>\n",
       "      <td>В сердце моря. Трагедия китобойного судна «Эсс...</td>\n",
       "      <td>2</td>\n",
       "    </tr>\n",
       "    <tr>\n",
       "      <th>29758</th>\n",
       "      <td>Приключения в стране бизонов</td>\n",
       "      <td>1</td>\n",
       "    </tr>\n",
       "    <tr>\n",
       "      <th>193348</th>\n",
       "      <td>Люцифер. Том 2</td>\n",
       "      <td>1</td>\n",
       "    </tr>\n",
       "  </tbody>\n",
       "</table>\n",
       "<p>454 rows × 2 columns</p>\n",
       "</div>"
      ],
      "text/plain": [
       "                                                     title  count\n",
       "item_id                                                          \n",
       "26963                                             Шантарам    462\n",
       "306416                                           Тень горы    136\n",
       "292066                                 Таинственный остров    112\n",
       "198593                                      Повелитель мух     86\n",
       "108078                                      Путешественник     59\n",
       "...                                                    ...    ...\n",
       "284119                                     The Black Arrow      2\n",
       "22209                         Приключения бригадира Жерара      2\n",
       "170237   В сердце моря. Трагедия китобойного судна «Эсс...      2\n",
       "29758                         Приключения в стране бизонов      1\n",
       "193348                                      Люцифер. Том 2      1\n",
       "\n",
       "[454 rows x 2 columns]"
      ]
     },
     "execution_count": 92,
     "metadata": {},
     "output_type": "execute_result"
    }
   ],
   "source": [
    "count_titles_exlode[count_titles_exlode['genres'] == 'Зарубежные приключения'][['title', 'count']].sort_values(by='count', ascending=False)"
   ]
  },
  {
   "cell_type": "code",
   "execution_count": null,
   "metadata": {
    "tags": []
   },
   "outputs": [
    {
     "data": {
      "text/html": [
       "<div>\n",
       "<style scoped>\n",
       "    .dataframe tbody tr th:only-of-type {\n",
       "        vertical-align: middle;\n",
       "    }\n",
       "\n",
       "    .dataframe tbody tr th {\n",
       "        vertical-align: top;\n",
       "    }\n",
       "\n",
       "    .dataframe thead th {\n",
       "        text-align: right;\n",
       "    }\n",
       "</style>\n",
       "<table border=\"1\" class=\"dataframe\">\n",
       "  <thead>\n",
       "    <tr style=\"text-align: right;\">\n",
       "      <th></th>\n",
       "      <th>title</th>\n",
       "      <th>genres</th>\n",
       "    </tr>\n",
       "    <tr>\n",
       "      <th>id</th>\n",
       "      <th></th>\n",
       "      <th></th>\n",
       "    </tr>\n",
       "  </thead>\n",
       "  <tbody>\n",
       "    <tr>\n",
       "      <th>1</th>\n",
       "      <td>Множественные источники дохода</td>\n",
       "      <td>Эффективность бизнеса,Финансовый менеджмент,Пр...</td>\n",
       "    </tr>\n",
       "    <tr>\n",
       "      <th>2</th>\n",
       "      <td>Она не объясняет, он не догадывается. Японское...</td>\n",
       "      <td>Семейная психология,Зарубежная психология,Соци...</td>\n",
       "    </tr>\n",
       "    <tr>\n",
       "      <th>13</th>\n",
       "      <td>Падение</td>\n",
       "      <td>Зарубежные любовные романы,Остросюжетные любов...</td>\n",
       "    </tr>\n",
       "    <tr>\n",
       "      <th>21</th>\n",
       "      <td>Надо жить умеючи. Архетипы нового века</td>\n",
       "      <td>Прикладная литература,Общая психология,Публици...</td>\n",
       "    </tr>\n",
       "    <tr>\n",
       "      <th>26</th>\n",
       "      <td>Сетевой маркетинг: методы продаж</td>\n",
       "      <td>Рукоделие и ремесла,Просто о бизнесе,Другие сп...</td>\n",
       "    </tr>\n",
       "    <tr>\n",
       "      <th>...</th>\n",
       "      <td>...</td>\n",
       "      <td>...</td>\n",
       "    </tr>\n",
       "    <tr>\n",
       "      <th>321732</th>\n",
       "      <td>Молитвы на разные случаи</td>\n",
       "      <td>Православные молитвы,Христианство</td>\n",
       "    </tr>\n",
       "    <tr>\n",
       "      <th>321733</th>\n",
       "      <td>Доктор Кто. Герои и монстры (сборник)</td>\n",
       "      <td>Боевая фантастика,Зарубежная фантастика,Космич...</td>\n",
       "    </tr>\n",
       "    <tr>\n",
       "      <th>321739</th>\n",
       "      <td>Человек в футляре</td>\n",
       "      <td>Современная русская литература</td>\n",
       "    </tr>\n",
       "    <tr>\n",
       "      <th>321748</th>\n",
       "      <td>Хочешь, я буду твоей мамой?</td>\n",
       "      <td>Воспитание детей</td>\n",
       "    </tr>\n",
       "    <tr>\n",
       "      <th>321751</th>\n",
       "      <td>Сердца трех</td>\n",
       "      <td>Книги о приключениях,Зарубежные приключения</td>\n",
       "    </tr>\n",
       "  </tbody>\n",
       "</table>\n",
       "<p>59599 rows × 2 columns</p>\n",
       "</div>"
      ],
      "text/plain": [
       "                                                    title  \\\n",
       "id                                                          \n",
       "1                          Множественные источники дохода   \n",
       "2       Она не объясняет, он не догадывается. Японское...   \n",
       "13                                                Падение   \n",
       "21                 Надо жить умеючи. Архетипы нового века   \n",
       "26                       Сетевой маркетинг: методы продаж   \n",
       "...                                                   ...   \n",
       "321732                           Молитвы на разные случаи   \n",
       "321733              Доктор Кто. Герои и монстры (сборник)   \n",
       "321739                                  Человек в футляре   \n",
       "321748                        Хочешь, я буду твоей мамой?   \n",
       "321751                                        Сердца трех   \n",
       "\n",
       "                                                   genres  \n",
       "id                                                         \n",
       "1       Эффективность бизнеса,Финансовый менеджмент,Пр...  \n",
       "2       Семейная психология,Зарубежная психология,Соци...  \n",
       "13      Зарубежные любовные романы,Остросюжетные любов...  \n",
       "21      Прикладная литература,Общая психология,Публици...  \n",
       "26      Рукоделие и ремесла,Просто о бизнесе,Другие сп...  \n",
       "...                                                   ...  \n",
       "321732                  Православные молитвы,Христианство  \n",
       "321733  Боевая фантастика,Зарубежная фантастика,Космич...  \n",
       "321739                     Современная русская литература  \n",
       "321748                                   Воспитание детей  \n",
       "321751        Книги о приключениях,Зарубежные приключения  \n",
       "\n",
       "[59599 rows x 2 columns]"
      ]
     },
     "execution_count": 93,
     "metadata": {},
     "output_type": "execute_result"
    }
   ],
   "source": [
    "items_name"
   ]
  },
  {
   "cell_type": "markdown",
   "metadata": {},
   "source": [
    "# Preproc"
   ]
  },
  {
   "cell_type": "code",
   "execution_count": null,
   "metadata": {
    "tags": []
   },
   "outputs": [
    {
     "data": {
      "text/plain": [
       "user_id    0\n",
       "age        0\n",
       "sex        0\n",
       "dtype: int64"
      ]
     },
     "execution_count": 38,
     "metadata": {},
     "output_type": "execute_result"
    }
   ],
   "source": [
    "df_users.isna().sum()"
   ]
  },
  {
   "cell_type": "code",
   "execution_count": null,
   "metadata": {
    "tags": []
   },
   "outputs": [
    {
     "data": {
      "text/plain": [
       "id         0\n",
       "title      0\n",
       "genres     0\n",
       "authors    0\n",
       "year       0\n",
       "dtype: int64"
      ]
     },
     "execution_count": 39,
     "metadata": {},
     "output_type": "execute_result"
    }
   ],
   "source": [
    "df_items.isna().sum()"
   ]
  },
  {
   "cell_type": "code",
   "execution_count": null,
   "metadata": {
    "tags": []
   },
   "outputs": [
    {
     "data": {
      "text/plain": [
       "0    2001.745882\n",
       "Name: year, dtype: float64"
      ]
     },
     "execution_count": 40,
     "metadata": {},
     "output_type": "execute_result"
    }
   ],
   "source": [
    "df_items['year'].mode()"
   ]
  },
  {
   "cell_type": "code",
   "execution_count": null,
   "metadata": {
    "tags": []
   },
   "outputs": [],
   "source": [
    "def proc_users(df_users: pd.DataFrame):\n",
    "    import pandas as pd\n",
    "\n",
    "    # загрузка данных\n",
    "    df_users = df_users.copy()\n",
    "\n",
    "    # заполнение пропущенных значений возраста модой\n",
    "    df_users['age'].fillna(df_users[df_users['age'].notna()]['age'].mode()[0], inplace=True)\n",
    "\n",
    "    # заполнение пропущенных значений пола модой\n",
    "    df_users['sex'].fillna(df_users[df_users['age'].notna()]['sex'].mode()[0], inplace=True)\n",
    "    \n",
    "    return df_users\n",
    "\n",
    "\n",
    "def extract_year(text):\n",
    "    import re\n",
    "    pattern = r'\\b\\d{4}\\b'\n",
    "    match = re.search(pattern, text)\n",
    "    if match:\n",
    "        return int(match.group())\n",
    "    else:\n",
    "        return None\n",
    "\n",
    "\n",
    "def proc_items(df_items: pd.DataFrame):\n",
    "    import pandas as pd\n",
    "    import datetime\n",
    "    # загрузка данных\n",
    "    df_items = df_items.copy()\n",
    "\n",
    "    # заполнение пропущенных значений возраста модой\n",
    "    df_items['genres'].fillna('Unknown', inplace=True)\n",
    "    df_items['authors'].fillna('Unknown', inplace=True)\n",
    "    \n",
    "    df_items['year'] = df_items['year'].apply(lambda x: extract_year(str(x)))\n",
    "    df_items.loc[df_items['year'].isna(), 'year'] = np.nan\n",
    "    \n",
    "    df_items['year'] = pd.to_numeric(df_items['year'], errors='coerce')\n",
    "    df_items.loc[df_items['year'] > datetime.date.today().year, 'year'] = np.nan\n",
    "    mean_year = df_items['year'].mean()\n",
    "    df_items['year'].fillna(mean_year, inplace=True)\n",
    "    \n",
    "    return df_items\n"
   ]
  },
  {
   "cell_type": "code",
   "execution_count": null,
   "metadata": {},
   "outputs": [],
   "source": [
    "df_users = proc_users(df_users)\n",
    "\n",
    "df_items = proc_items(df_items)"
   ]
  },
  {
   "cell_type": "code",
   "execution_count": null,
   "metadata": {
    "tags": []
   },
   "outputs": [
    {
     "data": {
      "text/plain": [
       "user_id             0\n",
       "item_id             0\n",
       "progress            0\n",
       "rating        1247722\n",
       "start_date          0\n",
       "dtype: int64"
      ]
     },
     "execution_count": 13,
     "metadata": {},
     "output_type": "execute_result"
    }
   ],
   "source": [
    "df.isna().sum()"
   ]
  },
  {
   "cell_type": "markdown",
   "metadata": {},
   "source": [
    "# Rec Sys"
   ]
  },
  {
   "cell_type": "code",
   "execution_count": 4,
   "metadata": {
    "tags": []
   },
   "outputs": [],
   "source": [
    "\n",
    "df['rating'] = np.array(df['rating'].values, dtype=np.float32)\n"
   ]
  },
  {
   "cell_type": "code",
   "execution_count": 7,
   "metadata": {},
   "outputs": [],
   "source": [
    "class TimeRangeSplit():\n",
    "    \"\"\"\n",
    "    from https://www.kaggle.com/code/sharthz23/implicit-lightfm\n",
    "    \"\"\"\n",
    "    def __init__(self, \n",
    "                 start_date, \n",
    "                 end_date=None, \n",
    "                 freq='D', \n",
    "                 periods=None, \n",
    "                 tz=None, \n",
    "                 normalize=False, \n",
    "                 closed=None, \n",
    "                 train_min_date=None,\n",
    "                 filter_cold_users=True, \n",
    "                 filter_cold_items=True, \n",
    "                 filter_already_seen=True):\n",
    "        \n",
    "        self.start_date = start_date\n",
    "        if end_date is None and periods is None:\n",
    "            raise ValueError(\"Either 'end_date' or 'periods' must be non-zero, not both at the same time.\")\n",
    "\n",
    "        self.end_date = end_date\n",
    "        self.freq = freq\n",
    "        self.periods = periods\n",
    "        self.tz = tz\n",
    "        self.normalize = normalize\n",
    "        self.closed = closed\n",
    "        self.train_min_date = pd.to_datetime(train_min_date, errors='raise')\n",
    "        self.filter_cold_users = filter_cold_users\n",
    "        self.filter_cold_items = filter_cold_items\n",
    "        self.filter_already_seen = filter_already_seen\n",
    "\n",
    "        self.date_range = pd.date_range(\n",
    "            start=start_date, \n",
    "            end=end_date, \n",
    "            freq=freq, \n",
    "            periods=periods, \n",
    "            tz=tz, \n",
    "            normalize=normalize, \n",
    "            closed=closed)\n",
    "\n",
    "        self.max_n_splits = max(0, len(self.date_range) - 1)\n",
    "        if self.max_n_splits == 0:\n",
    "            raise ValueError(\"Provided parametrs set an empty date range.\") \n",
    "\n",
    "    def split(self, \n",
    "              df, \n",
    "              user_column='user_id',\n",
    "              item_column='item_id',\n",
    "              datetime_column='date',\n",
    "              fold_stats=False):\n",
    "        df_datetime = df[datetime_column]\n",
    "        if self.train_min_date is not None:\n",
    "            train_min_mask = df_datetime >= self.train_min_date\n",
    "        else:\n",
    "            train_min_mask = df_datetime.notnull()\n",
    "\n",
    "        date_range = self.date_range[(self.date_range >= df_datetime.min()) & \n",
    "                                     (self.date_range <= df_datetime.max())]\n",
    "\n",
    "        for start, end in pairwise(date_range):\n",
    "            fold_info = {\n",
    "                'Start date': start,\n",
    "                'End date': end\n",
    "            }\n",
    "            train_mask = train_min_mask & (df_datetime < start)\n",
    "            train_idx = df.index[train_mask]\n",
    "            if fold_stats:\n",
    "                fold_info['Train'] = len(train_idx)\n",
    "\n",
    "            test_mask = (df_datetime >= start) & (df_datetime < end)\n",
    "            test_idx = df.index[test_mask]\n",
    "            \n",
    "            if self.filter_cold_users:\n",
    "                new = np.setdiff1d(\n",
    "                    df.loc[test_idx, user_column].unique(), \n",
    "                    df.loc[train_idx, user_column].unique())\n",
    "                new_idx = df.index[test_mask & df[user_column].isin(new)]\n",
    "                test_idx = np.setdiff1d(test_idx, new_idx)\n",
    "                test_mask = df.index.isin(test_idx)\n",
    "                if fold_stats:\n",
    "                    fold_info['New users'] = len(new)\n",
    "                    fold_info['New users interactions'] = len(new_idx)\n",
    "\n",
    "            if self.filter_cold_items:\n",
    "                new = np.setdiff1d(\n",
    "                    df.loc[test_idx, item_column].unique(), \n",
    "                    df.loc[train_idx, item_column].unique())\n",
    "                new_idx = df.index[test_mask & df[item_column].isin(new)]\n",
    "                test_idx = np.setdiff1d(test_idx, new_idx)\n",
    "                test_mask = df.index.isin(test_idx)\n",
    "                if fold_stats:\n",
    "                    fold_info['New items'] = len(new)\n",
    "                    fold_info['New items interactions'] = len(new_idx)\n",
    "\n",
    "            if self.filter_already_seen:\n",
    "                user_item = [user_column, item_column]\n",
    "                train_pairs = df.loc[train_idx, user_item].set_index(user_item).index\n",
    "                test_pairs = df.loc[test_idx, user_item].set_index(user_item).index\n",
    "                intersection = train_pairs.intersection(test_pairs)\n",
    "                test_idx = test_idx[~test_pairs.isin(intersection)]\n",
    "                # test_mask = rd.df.index.isin(test_idx)\n",
    "                if fold_stats:\n",
    "                    fold_info['Known interactions'] = len(intersection)\n",
    "\n",
    "            if fold_stats:\n",
    "                fold_info['Test'] = len(test_idx)\n",
    "\n",
    "            yield (train_idx, test_idx, fold_info)\n",
    "\n",
    "    def get_n_splits(self, df, datetime_column='date'):\n",
    "        df_datetime = df[datetime_column]\n",
    "        if self.train_min_date is not None:\n",
    "            df_datetime = df_datetime[df_datetime >= self.train_min_date]\n",
    "\n",
    "        date_range = self.date_range[(self.date_range >= df_datetime.min()) & \n",
    "                                     (self.date_range <= df_datetime.max())]\n",
    "\n",
    "        return max(0, len(date_range) - 1)"
   ]
  },
  {
   "cell_type": "code",
   "execution_count": 6,
   "metadata": {},
   "outputs": [
    {
     "data": {
      "text/plain": [
       "(Timestamp('2019-12-24 00:00:00'), Timestamp('2019-12-31 00:00:00'))"
      ]
     },
     "execution_count": 6,
     "metadata": {},
     "output_type": "execute_result"
    }
   ],
   "source": [
    "df['start_date'] = pd.to_datetime(df['start_date'])\n",
    "last_date = df['start_date'].max().normalize()\n",
    "folds = 7\n",
    "start_date = last_date - pd.Timedelta(days=folds)\n",
    "start_date, last_date"
   ]
  },
  {
   "cell_type": "code",
   "execution_count": 5,
   "metadata": {},
   "outputs": [],
   "source": [
    "import scipy.sparse as sp\n",
    "from itertools import islice, cycle\n",
    "from more_itertools import pairwise\n",
    "from tqdm.auto import tqdm"
   ]
  },
  {
   "cell_type": "code",
   "execution_count": 8,
   "metadata": {},
   "outputs": [
    {
     "name": "stderr",
     "output_type": "stream",
     "text": [
      "/tmp/ipykernel_60098/4294589710.py:33: FutureWarning: Argument `closed` is deprecated in favor of `inclusive`.\n",
      "  self.date_range = pd.date_range(\n"
     ]
    }
   ],
   "source": [
    "cv = TimeRangeSplit(start_date=start_date, periods=folds+1)\n",
    "\n",
    "cv.max_n_splits, cv.get_n_splits(df, datetime_column='start_date')\n",
    "\n",
    "folds_with_stats = list(cv.split(\n",
    "    df, \n",
    "    user_column='user_id',\n",
    "    item_column='item_id',\n",
    "    datetime_column='start_date',\n",
    "    fold_stats=True\n",
    "))\n",
    "\n",
    "folds_info_with_stats = pd.DataFrame([info for _, _, info in folds_with_stats])\n"
   ]
  },
  {
   "cell_type": "code",
   "execution_count": 9,
   "metadata": {},
   "outputs": [
    {
     "data": {
      "text/html": [
       "<div>\n",
       "<style scoped>\n",
       "    .dataframe tbody tr th:only-of-type {\n",
       "        vertical-align: middle;\n",
       "    }\n",
       "\n",
       "    .dataframe tbody tr th {\n",
       "        vertical-align: top;\n",
       "    }\n",
       "\n",
       "    .dataframe thead th {\n",
       "        text-align: right;\n",
       "    }\n",
       "</style>\n",
       "<table border=\"1\" class=\"dataframe\">\n",
       "  <thead>\n",
       "    <tr style=\"text-align: right;\">\n",
       "      <th></th>\n",
       "      <th>Start date</th>\n",
       "      <th>End date</th>\n",
       "      <th>Train</th>\n",
       "      <th>New users</th>\n",
       "      <th>New users interactions</th>\n",
       "      <th>New items</th>\n",
       "      <th>New items interactions</th>\n",
       "      <th>Known interactions</th>\n",
       "      <th>Test</th>\n",
       "    </tr>\n",
       "  </thead>\n",
       "  <tbody>\n",
       "    <tr>\n",
       "      <th>0</th>\n",
       "      <td>2019-12-24</td>\n",
       "      <td>2019-12-25</td>\n",
       "      <td>1516024</td>\n",
       "      <td>3</td>\n",
       "      <td>3</td>\n",
       "      <td>0</td>\n",
       "      <td>0</td>\n",
       "      <td>0</td>\n",
       "      <td>2045</td>\n",
       "    </tr>\n",
       "    <tr>\n",
       "      <th>1</th>\n",
       "      <td>2019-12-25</td>\n",
       "      <td>2019-12-26</td>\n",
       "      <td>1518072</td>\n",
       "      <td>1</td>\n",
       "      <td>1</td>\n",
       "      <td>0</td>\n",
       "      <td>0</td>\n",
       "      <td>1</td>\n",
       "      <td>2141</td>\n",
       "    </tr>\n",
       "    <tr>\n",
       "      <th>2</th>\n",
       "      <td>2019-12-26</td>\n",
       "      <td>2019-12-27</td>\n",
       "      <td>1520215</td>\n",
       "      <td>0</td>\n",
       "      <td>0</td>\n",
       "      <td>0</td>\n",
       "      <td>0</td>\n",
       "      <td>0</td>\n",
       "      <td>2177</td>\n",
       "    </tr>\n",
       "    <tr>\n",
       "      <th>3</th>\n",
       "      <td>2019-12-27</td>\n",
       "      <td>2019-12-28</td>\n",
       "      <td>1522392</td>\n",
       "      <td>0</td>\n",
       "      <td>0</td>\n",
       "      <td>0</td>\n",
       "      <td>0</td>\n",
       "      <td>1</td>\n",
       "      <td>2110</td>\n",
       "    </tr>\n",
       "    <tr>\n",
       "      <th>4</th>\n",
       "      <td>2019-12-28</td>\n",
       "      <td>2019-12-29</td>\n",
       "      <td>1524503</td>\n",
       "      <td>2</td>\n",
       "      <td>4</td>\n",
       "      <td>0</td>\n",
       "      <td>0</td>\n",
       "      <td>0</td>\n",
       "      <td>2205</td>\n",
       "    </tr>\n",
       "    <tr>\n",
       "      <th>5</th>\n",
       "      <td>2019-12-29</td>\n",
       "      <td>2019-12-30</td>\n",
       "      <td>1526712</td>\n",
       "      <td>4</td>\n",
       "      <td>4</td>\n",
       "      <td>0</td>\n",
       "      <td>0</td>\n",
       "      <td>0</td>\n",
       "      <td>2118</td>\n",
       "    </tr>\n",
       "    <tr>\n",
       "      <th>6</th>\n",
       "      <td>2019-12-30</td>\n",
       "      <td>2019-12-31</td>\n",
       "      <td>1528834</td>\n",
       "      <td>1</td>\n",
       "      <td>1</td>\n",
       "      <td>0</td>\n",
       "      <td>0</td>\n",
       "      <td>0</td>\n",
       "      <td>2168</td>\n",
       "    </tr>\n",
       "  </tbody>\n",
       "</table>\n",
       "</div>"
      ],
      "text/plain": [
       "  Start date   End date    Train  New users  New users interactions  \\\n",
       "0 2019-12-24 2019-12-25  1516024          3                       3   \n",
       "1 2019-12-25 2019-12-26  1518072          1                       1   \n",
       "2 2019-12-26 2019-12-27  1520215          0                       0   \n",
       "3 2019-12-27 2019-12-28  1522392          0                       0   \n",
       "4 2019-12-28 2019-12-29  1524503          2                       4   \n",
       "5 2019-12-29 2019-12-30  1526712          4                       4   \n",
       "6 2019-12-30 2019-12-31  1528834          1                       1   \n",
       "\n",
       "   New items  New items interactions  Known interactions  Test  \n",
       "0          0                       0                   0  2045  \n",
       "1          0                       0                   1  2141  \n",
       "2          0                       0                   0  2177  \n",
       "3          0                       0                   1  2110  \n",
       "4          0                       0                   0  2205  \n",
       "5          0                       0                   0  2118  \n",
       "6          0                       0                   0  2168  "
      ]
     },
     "execution_count": 9,
     "metadata": {},
     "output_type": "execute_result"
    }
   ],
   "source": [
    "folds_info_with_stats"
   ]
  },
  {
   "cell_type": "code",
   "execution_count": null,
   "metadata": {},
   "outputs": [
    {
     "data": {
      "text/html": [
       "<div>\n",
       "<style scoped>\n",
       "    .dataframe tbody tr th:only-of-type {\n",
       "        vertical-align: middle;\n",
       "    }\n",
       "\n",
       "    .dataframe tbody tr th {\n",
       "        vertical-align: top;\n",
       "    }\n",
       "\n",
       "    .dataframe thead th {\n",
       "        text-align: right;\n",
       "    }\n",
       "</style>\n",
       "<table border=\"1\" class=\"dataframe\">\n",
       "  <thead>\n",
       "    <tr style=\"text-align: right;\">\n",
       "      <th></th>\n",
       "      <th>id</th>\n",
       "      <th>title</th>\n",
       "      <th>genres</th>\n",
       "      <th>authors</th>\n",
       "      <th>year</th>\n",
       "    </tr>\n",
       "  </thead>\n",
       "  <tbody>\n",
       "    <tr>\n",
       "      <th>0</th>\n",
       "      <td>128115</td>\n",
       "      <td>Ворон-челобитчик</td>\n",
       "      <td>Зарубежные детские книги,Сказки,Зарубежная кла...</td>\n",
       "      <td>Михаил Салтыков-Щедрин</td>\n",
       "      <td>1886.0</td>\n",
       "    </tr>\n",
       "    <tr>\n",
       "      <th>1</th>\n",
       "      <td>210979</td>\n",
       "      <td>Скрипка Ротшильда</td>\n",
       "      <td>Классическая проза,Литература 19 века,Русская ...</td>\n",
       "      <td>Антон Чехов</td>\n",
       "      <td>1894.0</td>\n",
       "    </tr>\n",
       "    <tr>\n",
       "      <th>2</th>\n",
       "      <td>95632</td>\n",
       "      <td>Испорченные дети</td>\n",
       "      <td>Зарубежная классика,Классическая проза,Литерат...</td>\n",
       "      <td>Михаил Салтыков-Щедрин</td>\n",
       "      <td>1869.0</td>\n",
       "    </tr>\n",
       "    <tr>\n",
       "      <th>3</th>\n",
       "      <td>247906</td>\n",
       "      <td>Странный человек</td>\n",
       "      <td>Пьесы и драматургия,Литература 19 века</td>\n",
       "      <td>Михаил Лермонтов</td>\n",
       "      <td>1831.0</td>\n",
       "    </tr>\n",
       "    <tr>\n",
       "      <th>4</th>\n",
       "      <td>294280</td>\n",
       "      <td>Господа ташкентцы</td>\n",
       "      <td>Зарубежная классика,Классическая проза,Литерат...</td>\n",
       "      <td>Михаил Салтыков-Щедрин</td>\n",
       "      <td>1873.0</td>\n",
       "    </tr>\n",
       "    <tr>\n",
       "      <th>...</th>\n",
       "      <td>...</td>\n",
       "      <td>...</td>\n",
       "      <td>...</td>\n",
       "      <td>...</td>\n",
       "      <td>...</td>\n",
       "    </tr>\n",
       "    <tr>\n",
       "      <th>59594</th>\n",
       "      <td>45640</td>\n",
       "      <td>МК Московский Комсомолец 291-2019</td>\n",
       "      <td>Политология,Книги по экономике,Газеты</td>\n",
       "      <td>Unknown</td>\n",
       "      <td>2019.0</td>\n",
       "    </tr>\n",
       "    <tr>\n",
       "      <th>59595</th>\n",
       "      <td>321616</td>\n",
       "      <td>МК Московский Комсомолец 292-2019</td>\n",
       "      <td>Политология,Книги по экономике,Газеты</td>\n",
       "      <td>Unknown</td>\n",
       "      <td>2019.0</td>\n",
       "    </tr>\n",
       "    <tr>\n",
       "      <th>59596</th>\n",
       "      <td>125582</td>\n",
       "      <td>Известия 248-249-2019</td>\n",
       "      <td>Политология,Общая история,Газеты</td>\n",
       "      <td>Unknown</td>\n",
       "      <td>2019.0</td>\n",
       "    </tr>\n",
       "    <tr>\n",
       "      <th>59597</th>\n",
       "      <td>33188</td>\n",
       "      <td>Men's Health 01-2020</td>\n",
       "      <td>Журнальные издания</td>\n",
       "      <td>Unknown</td>\n",
       "      <td>2019.0</td>\n",
       "    </tr>\n",
       "    <tr>\n",
       "      <th>59598</th>\n",
       "      <td>65317</td>\n",
       "      <td>Знание-сила 01-2020</td>\n",
       "      <td>Журнальные издания,Энциклопедии,Научная фантас...</td>\n",
       "      <td>Unknown</td>\n",
       "      <td>2019.0</td>\n",
       "    </tr>\n",
       "  </tbody>\n",
       "</table>\n",
       "<p>59599 rows × 5 columns</p>\n",
       "</div>"
      ],
      "text/plain": [
       "           id                              title  \\\n",
       "0      128115                   Ворон-челобитчик   \n",
       "1      210979                  Скрипка Ротшильда   \n",
       "2       95632                   Испорченные дети   \n",
       "3      247906                   Странный человек   \n",
       "4      294280                  Господа ташкентцы   \n",
       "...       ...                                ...   \n",
       "59594   45640  МК Московский Комсомолец 291-2019   \n",
       "59595  321616  МК Московский Комсомолец 292-2019   \n",
       "59596  125582              Известия 248-249-2019   \n",
       "59597   33188               Men's Health 01-2020   \n",
       "59598   65317                Знание-сила 01-2020   \n",
       "\n",
       "                                                  genres  \\\n",
       "0      Зарубежные детские книги,Сказки,Зарубежная кла...   \n",
       "1      Классическая проза,Литература 19 века,Русская ...   \n",
       "2      Зарубежная классика,Классическая проза,Литерат...   \n",
       "3                 Пьесы и драматургия,Литература 19 века   \n",
       "4      Зарубежная классика,Классическая проза,Литерат...   \n",
       "...                                                  ...   \n",
       "59594              Политология,Книги по экономике,Газеты   \n",
       "59595              Политология,Книги по экономике,Газеты   \n",
       "59596                   Политология,Общая история,Газеты   \n",
       "59597                                 Журнальные издания   \n",
       "59598  Журнальные издания,Энциклопедии,Научная фантас...   \n",
       "\n",
       "                      authors    year  \n",
       "0      Михаил Салтыков-Щедрин  1886.0  \n",
       "1                 Антон Чехов  1894.0  \n",
       "2      Михаил Салтыков-Щедрин  1869.0  \n",
       "3            Михаил Лермонтов  1831.0  \n",
       "4      Михаил Салтыков-Щедрин  1873.0  \n",
       "...                       ...     ...  \n",
       "59594                 Unknown  2019.0  \n",
       "59595                 Unknown  2019.0  \n",
       "59596                 Unknown  2019.0  \n",
       "59597                 Unknown  2019.0  \n",
       "59598                 Unknown  2019.0  \n",
       "\n",
       "[59599 rows x 5 columns]"
      ]
     },
     "execution_count": 22,
     "metadata": {},
     "output_type": "execute_result"
    }
   ],
   "source": [
    "df_items"
   ]
  },
  {
   "cell_type": "code",
   "execution_count": null,
   "metadata": {},
   "outputs": [
    {
     "data": {
      "text/html": [
       "<div>\n",
       "<style scoped>\n",
       "    .dataframe tbody tr th:only-of-type {\n",
       "        vertical-align: middle;\n",
       "    }\n",
       "\n",
       "    .dataframe tbody tr th {\n",
       "        vertical-align: top;\n",
       "    }\n",
       "\n",
       "    .dataframe thead th {\n",
       "        text-align: right;\n",
       "    }\n",
       "</style>\n",
       "<table border=\"1\" class=\"dataframe\">\n",
       "  <thead>\n",
       "    <tr style=\"text-align: right;\">\n",
       "      <th></th>\n",
       "      <th>user_id</th>\n",
       "      <th>age</th>\n",
       "      <th>sex</th>\n",
       "    </tr>\n",
       "  </thead>\n",
       "  <tbody>\n",
       "    <tr>\n",
       "      <th>0</th>\n",
       "      <td>1</td>\n",
       "      <td>45_54</td>\n",
       "      <td>0.0</td>\n",
       "    </tr>\n",
       "    <tr>\n",
       "      <th>1</th>\n",
       "      <td>2</td>\n",
       "      <td>18_24</td>\n",
       "      <td>0.0</td>\n",
       "    </tr>\n",
       "    <tr>\n",
       "      <th>2</th>\n",
       "      <td>3</td>\n",
       "      <td>65_inf</td>\n",
       "      <td>0.0</td>\n",
       "    </tr>\n",
       "    <tr>\n",
       "      <th>3</th>\n",
       "      <td>4</td>\n",
       "      <td>18_24</td>\n",
       "      <td>0.0</td>\n",
       "    </tr>\n",
       "    <tr>\n",
       "      <th>4</th>\n",
       "      <td>5</td>\n",
       "      <td>35_44</td>\n",
       "      <td>0.0</td>\n",
       "    </tr>\n",
       "    <tr>\n",
       "      <th>...</th>\n",
       "      <td>...</td>\n",
       "      <td>...</td>\n",
       "      <td>...</td>\n",
       "    </tr>\n",
       "    <tr>\n",
       "      <th>142883</th>\n",
       "      <td>159606</td>\n",
       "      <td>25_34</td>\n",
       "      <td>0.0</td>\n",
       "    </tr>\n",
       "    <tr>\n",
       "      <th>142884</th>\n",
       "      <td>159607</td>\n",
       "      <td>25_34</td>\n",
       "      <td>0.0</td>\n",
       "    </tr>\n",
       "    <tr>\n",
       "      <th>142885</th>\n",
       "      <td>159609</td>\n",
       "      <td>18_24</td>\n",
       "      <td>0.0</td>\n",
       "    </tr>\n",
       "    <tr>\n",
       "      <th>142886</th>\n",
       "      <td>159610</td>\n",
       "      <td>35_44</td>\n",
       "      <td>0.0</td>\n",
       "    </tr>\n",
       "    <tr>\n",
       "      <th>142887</th>\n",
       "      <td>159611</td>\n",
       "      <td>35_44</td>\n",
       "      <td>0.0</td>\n",
       "    </tr>\n",
       "  </tbody>\n",
       "</table>\n",
       "<p>142888 rows × 3 columns</p>\n",
       "</div>"
      ],
      "text/plain": [
       "        user_id     age  sex\n",
       "0             1   45_54  0.0\n",
       "1             2   18_24  0.0\n",
       "2             3  65_inf  0.0\n",
       "3             4   18_24  0.0\n",
       "4             5   35_44  0.0\n",
       "...         ...     ...  ...\n",
       "142883   159606   25_34  0.0\n",
       "142884   159607   25_34  0.0\n",
       "142885   159609   18_24  0.0\n",
       "142886   159610   35_44  0.0\n",
       "142887   159611   35_44  0.0\n",
       "\n",
       "[142888 rows x 3 columns]"
      ]
     },
     "execution_count": 23,
     "metadata": {},
     "output_type": "execute_result"
    }
   ],
   "source": [
    "df_users"
   ]
  },
  {
   "cell_type": "code",
   "execution_count": 10,
   "metadata": {},
   "outputs": [],
   "source": [
    "users_inv_mapping = dict(enumerate(df['user_id'].unique()))\n",
    "users_mapping = {v: k for k, v in users_inv_mapping.items()}\n",
    "\n",
    "items_inv_mapping = dict(enumerate(df['item_id'].unique()))\n",
    "items_mapping = {v: k for k, v in items_inv_mapping.items()}\n",
    "\n",
    "def get_coo_matrix(df, \n",
    "                   user_col='user_id', \n",
    "                   item_col='item_id', \n",
    "                   weight_col=None, \n",
    "                   users_mapping=users_mapping, \n",
    "                   items_mapping=items_mapping):\n",
    "    if weight_col is None:\n",
    "        weights = np.ones(len(df), dtype=np.float32)\n",
    "    else:\n",
    "        weights = df[weight_col].astype(np.float32)\n",
    "\n",
    "    interaction_matrix = sp.coo_matrix((\n",
    "        weights, \n",
    "        (\n",
    "            df[user_col].map(users_mapping.get), \n",
    "            df[item_col].map(items_mapping.get)\n",
    "        )\n",
    "    ))\n",
    "    return interaction_matrix"
   ]
  },
  {
   "cell_type": "code",
   "execution_count": 11,
   "metadata": {},
   "outputs": [
    {
     "name": "stderr",
     "output_type": "stream",
     "text": [
      "/home/kartushov/pet_projects/mfdp/.venv/lib/python3.8/site-packages/implicit/gpu/__init__.py:13: UserWarning: CUDA extension is built, but disabling GPU support because of 'Cuda Error: no CUDA-capable device is detected (/project/./implicit/gpu/utils.h:71)'\n",
      "  warnings.warn(\n"
     ]
    }
   ],
   "source": [
    "from lightfm import LightFM\n",
    "from lightfm.evaluation import precision_at_k\n",
    "\n",
    "from implicit.nearest_neighbours import CosineRecommender, BM25Recommender, TFIDFRecommender\n",
    "from implicit.evaluation import ranking_metrics_at_k\n"
   ]
  },
  {
   "cell_type": "code",
   "execution_count": 12,
   "metadata": {},
   "outputs": [],
   "source": [
    "def validation_tfidf():\n",
    "    for train_idx, test_idx, _ in folds_with_stats:\n",
    "\n",
    "        train = df.loc[train_idx]\n",
    "        test = df.loc[test_idx]\n",
    "\n",
    "        train_mat = get_coo_matrix(train).tocsr()\n",
    "        test_mat = get_coo_matrix(test).tocsr()\n",
    "\n",
    "        model = TFIDFRecommender(K=10)\n",
    "        model.fit(train_mat)\n",
    "        print(ranking_metrics_at_k(model, train_mat, test_mat, K=10, show_progress=True))\n",
    "\n",
    "def validation_bm25():\n",
    "    for train_idx, test_idx, _ in folds_with_stats:\n",
    "\n",
    "        train = df.loc[train_idx]\n",
    "        test = df.loc[test_idx]\n",
    "\n",
    "        train_mat = get_coo_matrix(train).tocsr()\n",
    "        test_mat = get_coo_matrix(test).tocsr()\n",
    "\n",
    "        model = BM25Recommender(K=10)\n",
    "        model.fit(train_mat)\n",
    "        print(ranking_metrics_at_k(model, train_mat, test_mat, K=10, show_progress=True))\n"
   ]
  },
  {
   "cell_type": "code",
   "execution_count": 13,
   "metadata": {},
   "outputs": [
    {
     "name": "stderr",
     "output_type": "stream",
     "text": [
      "/home/kartushov/pet_projects/mfdp/.venv/lib/python3.8/site-packages/implicit/utils.py:138: ParameterWarning: Method expects CSR input, and was passed coo_matrix instead. Converting to CSR took 0.029733657836914062 seconds\n",
      "  warnings.warn(\n"
     ]
    },
    {
     "data": {
      "application/vnd.jupyter.widget-view+json": {
       "model_id": "6dd74875904d4467bf92ad9a069e17de",
       "version_major": 2,
       "version_minor": 0
      },
      "text/plain": [
       "  0%|          | 0/59599 [00:00<?, ?it/s]"
      ]
     },
     "metadata": {},
     "output_type": "display_data"
    },
    {
     "data": {
      "application/vnd.jupyter.widget-view+json": {
       "model_id": "812fcb3eda4643e38ee6c95ed7c3ea63",
       "version_major": 2,
       "version_minor": 0
      },
      "text/plain": [
       "  0%|          | 0/1634 [00:00<?, ?it/s]"
      ]
     },
     "metadata": {},
     "output_type": "display_data"
    },
    {
     "name": "stdout",
     "output_type": "stream",
     "text": [
      "{'precision': 0.038480513073507645, 'map': 0.018874584717607973, 'ndcg': 0.02418708414395393, 'auc': 0.5184742593758501}\n"
     ]
    },
    {
     "name": "stderr",
     "output_type": "stream",
     "text": [
      "/home/kartushov/pet_projects/mfdp/.venv/lib/python3.8/site-packages/implicit/utils.py:138: ParameterWarning: Method expects CSR input, and was passed coo_matrix instead. Converting to CSR took 0.020526647567749023 seconds\n",
      "  warnings.warn(\n"
     ]
    },
    {
     "data": {
      "application/vnd.jupyter.widget-view+json": {
       "model_id": "19b9dfe6f46f4c75ad2faae57936504e",
       "version_major": 2,
       "version_minor": 0
      },
      "text/plain": [
       "  0%|          | 0/59599 [00:00<?, ?it/s]"
      ]
     },
     "metadata": {},
     "output_type": "display_data"
    },
    {
     "data": {
      "application/vnd.jupyter.widget-view+json": {
       "model_id": "147d5b5dc83142e39573979d8ac985fa",
       "version_major": 2,
       "version_minor": 0
      },
      "text/plain": [
       "  0%|          | 0/1776 [00:00<?, ?it/s]"
      ]
     },
     "metadata": {},
     "output_type": "display_data"
    },
    {
     "name": "stdout",
     "output_type": "stream",
     "text": [
      "{'precision': 0.03142857142857143, 'map': 0.014470944158444157, 'ndcg': 0.01875966181098262, 'auc': 0.5154928533559656}\n"
     ]
    },
    {
     "name": "stderr",
     "output_type": "stream",
     "text": [
      "/home/kartushov/pet_projects/mfdp/.venv/lib/python3.8/site-packages/implicit/utils.py:138: ParameterWarning: Method expects CSR input, and was passed coo_matrix instead. Converting to CSR took 0.02211308479309082 seconds\n",
      "  warnings.warn(\n"
     ]
    },
    {
     "data": {
      "application/vnd.jupyter.widget-view+json": {
       "model_id": "30d49e4e153b43bcbc8273361a8e5c74",
       "version_major": 2,
       "version_minor": 0
      },
      "text/plain": [
       "  0%|          | 0/59599 [00:00<?, ?it/s]"
      ]
     },
     "metadata": {},
     "output_type": "display_data"
    },
    {
     "data": {
      "application/vnd.jupyter.widget-view+json": {
       "model_id": "e7ece4d089974c5a9a6a66f0ff7ffba8",
       "version_major": 2,
       "version_minor": 0
      },
      "text/plain": [
       "  0%|          | 0/1868 [00:00<?, ?it/s]"
      ]
     },
     "metadata": {},
     "output_type": "display_data"
    },
    {
     "name": "stdout",
     "output_type": "stream",
     "text": [
      "{'precision': 0.029871323529411766, 'map': 0.013319147847099823, 'ndcg': 0.01735417310565694, 'auc': 0.5139501828625731}\n"
     ]
    },
    {
     "name": "stderr",
     "output_type": "stream",
     "text": [
      "/home/kartushov/pet_projects/mfdp/.venv/lib/python3.8/site-packages/implicit/utils.py:138: ParameterWarning: Method expects CSR input, and was passed coo_matrix instead. Converting to CSR took 0.019853591918945312 seconds\n",
      "  warnings.warn(\n"
     ]
    },
    {
     "data": {
      "application/vnd.jupyter.widget-view+json": {
       "model_id": "f261216da32f4e96bef1e1bcc84c6316",
       "version_major": 2,
       "version_minor": 0
      },
      "text/plain": [
       "  0%|          | 0/59599 [00:00<?, ?it/s]"
      ]
     },
     "metadata": {},
     "output_type": "display_data"
    },
    {
     "data": {
      "application/vnd.jupyter.widget-view+json": {
       "model_id": "7420a7b74e844331860a691461a6287e",
       "version_major": 2,
       "version_minor": 0
      },
      "text/plain": [
       "  0%|          | 0/1810 [00:00<?, ?it/s]"
      ]
     },
     "metadata": {},
     "output_type": "display_data"
    },
    {
     "name": "stdout",
     "output_type": "stream",
     "text": [
      "{'precision': 0.027039848197343452, 'map': 0.014281767955801104, 'ndcg': 0.01746789528126113, 'auc': 0.5131794424060988}\n"
     ]
    },
    {
     "name": "stderr",
     "output_type": "stream",
     "text": [
      "/home/kartushov/pet_projects/mfdp/.venv/lib/python3.8/site-packages/implicit/utils.py:138: ParameterWarning: Method expects CSR input, and was passed coo_matrix instead. Converting to CSR took 0.022246360778808594 seconds\n",
      "  warnings.warn(\n"
     ]
    },
    {
     "data": {
      "application/vnd.jupyter.widget-view+json": {
       "model_id": "08dae7a597144f61bf0dc6eb82b8c572",
       "version_major": 2,
       "version_minor": 0
      },
      "text/plain": [
       "  0%|          | 0/59599 [00:00<?, ?it/s]"
      ]
     },
     "metadata": {},
     "output_type": "display_data"
    },
    {
     "data": {
      "application/vnd.jupyter.widget-view+json": {
       "model_id": "932d256e051c448eb71d79223982c3d5",
       "version_major": 2,
       "version_minor": 0
      },
      "text/plain": [
       "  0%|          | 0/1818 [00:00<?, ?it/s]"
      ]
     },
     "metadata": {},
     "output_type": "display_data"
    },
    {
     "name": "stdout",
     "output_type": "stream",
     "text": [
      "{'precision': 0.025298988040478382, 'map': 0.00947180531545218, 'ndcg': 0.01335439025920649, 'auc': 0.5119433007390762}\n"
     ]
    },
    {
     "name": "stderr",
     "output_type": "stream",
     "text": [
      "/home/kartushov/pet_projects/mfdp/.venv/lib/python3.8/site-packages/implicit/utils.py:138: ParameterWarning: Method expects CSR input, and was passed coo_matrix instead. Converting to CSR took 0.01949334144592285 seconds\n",
      "  warnings.warn(\n"
     ]
    },
    {
     "data": {
      "application/vnd.jupyter.widget-view+json": {
       "model_id": "dc888670f4bd4cc89fe0f02715049120",
       "version_major": 2,
       "version_minor": 0
      },
      "text/plain": [
       "  0%|          | 0/59599 [00:00<?, ?it/s]"
      ]
     },
     "metadata": {},
     "output_type": "display_data"
    },
    {
     "data": {
      "application/vnd.jupyter.widget-view+json": {
       "model_id": "244312d10e2744cbb3d5dc416f7d63e0",
       "version_major": 2,
       "version_minor": 0
      },
      "text/plain": [
       "  0%|          | 0/1746 [00:00<?, ?it/s]"
      ]
     },
     "metadata": {},
     "output_type": "display_data"
    },
    {
     "name": "stdout",
     "output_type": "stream",
     "text": [
      "{'precision': 0.031874405328258804, 'map': 0.014367874870452189, 'ndcg': 0.01894843961873913, 'auc': 0.5154604893974273}\n"
     ]
    },
    {
     "name": "stderr",
     "output_type": "stream",
     "text": [
      "/home/kartushov/pet_projects/mfdp/.venv/lib/python3.8/site-packages/implicit/utils.py:138: ParameterWarning: Method expects CSR input, and was passed coo_matrix instead. Converting to CSR took 0.026230573654174805 seconds\n",
      "  warnings.warn(\n"
     ]
    },
    {
     "data": {
      "application/vnd.jupyter.widget-view+json": {
       "model_id": "9f47a06a13f5465d8fdd13d5566334e8",
       "version_major": 2,
       "version_minor": 0
      },
      "text/plain": [
       "  0%|          | 0/59599 [00:00<?, ?it/s]"
      ]
     },
     "metadata": {},
     "output_type": "display_data"
    },
    {
     "data": {
      "application/vnd.jupyter.widget-view+json": {
       "model_id": "1418a19d11724cdd89988f32d08da9f6",
       "version_major": 2,
       "version_minor": 0
      },
      "text/plain": [
       "  0%|          | 0/1852 [00:00<?, ?it/s]"
      ]
     },
     "metadata": {},
     "output_type": "display_data"
    },
    {
     "name": "stdout",
     "output_type": "stream",
     "text": [
      "{'precision': 0.026437847866419294, 'map': 0.012756158078782267, 'ndcg': 0.016314690983753502, 'auc': 0.5131010067890277}\n"
     ]
    }
   ],
   "source": [
    "validation_bm25()"
   ]
  },
  {
   "cell_type": "code",
   "execution_count": 76,
   "metadata": {},
   "outputs": [
    {
     "name": "stderr",
     "output_type": "stream",
     "text": [
      "/home/kartushov/pet_projects/mfdp/.venv/lib/python3.8/site-packages/implicit/utils.py:138: ParameterWarning: Method expects CSR input, and was passed coo_matrix instead. Converting to CSR took 0.01936626434326172 seconds\n",
      "  warnings.warn(\n"
     ]
    },
    {
     "data": {
      "application/vnd.jupyter.widget-view+json": {
       "model_id": "7b9e15025db14ff99870ecec75b1018a",
       "version_major": 2,
       "version_minor": 0
      },
      "text/plain": [
       "  0%|          | 0/59599 [00:00<?, ?it/s]"
      ]
     },
     "metadata": {},
     "output_type": "display_data"
    },
    {
     "data": {
      "application/vnd.jupyter.widget-view+json": {
       "model_id": "b4eab02792cc4de1bd14471a91e780f3",
       "version_major": 2,
       "version_minor": 0
      },
      "text/plain": [
       "  0%|          | 0/1634 [00:00<?, ?it/s]"
      ]
     },
     "metadata": {},
     "output_type": "display_data"
    },
    {
     "name": "stdout",
     "output_type": "stream",
     "text": [
      "{'precision': 0.03798717316230883, 'map': 0.02004043423434925, 'ndcg': 0.025177909649686, 'auc': 0.518882332902873}\n"
     ]
    },
    {
     "name": "stderr",
     "output_type": "stream",
     "text": [
      "/home/kartushov/pet_projects/mfdp/.venv/lib/python3.8/site-packages/implicit/utils.py:138: ParameterWarning: Method expects CSR input, and was passed coo_matrix instead. Converting to CSR took 0.018600940704345703 seconds\n",
      "  warnings.warn(\n"
     ]
    },
    {
     "data": {
      "application/vnd.jupyter.widget-view+json": {
       "model_id": "3493e1c2a18349e086775e4691335a3c",
       "version_major": 2,
       "version_minor": 0
      },
      "text/plain": [
       "  0%|          | 0/59599 [00:00<?, ?it/s]"
      ]
     },
     "metadata": {},
     "output_type": "display_data"
    },
    {
     "data": {
      "application/vnd.jupyter.widget-view+json": {
       "model_id": "e5da12453ce141a197889a48c7756348",
       "version_major": 2,
       "version_minor": 0
      },
      "text/plain": [
       "  0%|          | 0/1776 [00:00<?, ?it/s]"
      ]
     },
     "metadata": {},
     "output_type": "display_data"
    },
    {
     "name": "stdout",
     "output_type": "stream",
     "text": [
      "{'precision': 0.03333333333333333, 'map': 0.014794928857428856, 'ndcg': 0.019427876709998442, 'auc': 0.5161518470249482}\n"
     ]
    },
    {
     "name": "stderr",
     "output_type": "stream",
     "text": [
      "/home/kartushov/pet_projects/mfdp/.venv/lib/python3.8/site-packages/implicit/utils.py:138: ParameterWarning: Method expects CSR input, and was passed coo_matrix instead. Converting to CSR took 0.017648935317993164 seconds\n",
      "  warnings.warn(\n"
     ]
    },
    {
     "data": {
      "application/vnd.jupyter.widget-view+json": {
       "model_id": "0a4031146fa24fcc8a97bd503e007d1d",
       "version_major": 2,
       "version_minor": 0
      },
      "text/plain": [
       "  0%|          | 0/59599 [00:00<?, ?it/s]"
      ]
     },
     "metadata": {},
     "output_type": "display_data"
    },
    {
     "data": {
      "application/vnd.jupyter.widget-view+json": {
       "model_id": "c3c51c71eabd48348579b2ddc6f71212",
       "version_major": 2,
       "version_minor": 0
      },
      "text/plain": [
       "  0%|          | 0/1868 [00:00<?, ?it/s]"
      ]
     },
     "metadata": {},
     "output_type": "display_data"
    },
    {
     "name": "stdout",
     "output_type": "stream",
     "text": [
      "{'precision': 0.025735294117647058, 'map': 0.011135470129046142, 'ndcg': 0.014548133446192343, 'auc': 0.5116813798113401}\n"
     ]
    },
    {
     "name": "stderr",
     "output_type": "stream",
     "text": [
      "/home/kartushov/pet_projects/mfdp/.venv/lib/python3.8/site-packages/implicit/utils.py:138: ParameterWarning: Method expects CSR input, and was passed coo_matrix instead. Converting to CSR took 0.02467632293701172 seconds\n",
      "  warnings.warn(\n"
     ]
    },
    {
     "data": {
      "application/vnd.jupyter.widget-view+json": {
       "model_id": "b116e9e9f8ff43a89ad2a2ae0c2ec749",
       "version_major": 2,
       "version_minor": 0
      },
      "text/plain": [
       "  0%|          | 0/59599 [00:00<?, ?it/s]"
      ]
     },
     "metadata": {},
     "output_type": "display_data"
    },
    {
     "data": {
      "application/vnd.jupyter.widget-view+json": {
       "model_id": "7b560aef8cfa499dbbcbb40b951ef427",
       "version_major": 2,
       "version_minor": 0
      },
      "text/plain": [
       "  0%|          | 0/1810 [00:00<?, ?it/s]"
      ]
     },
     "metadata": {},
     "output_type": "display_data"
    },
    {
     "name": "stdout",
     "output_type": "stream",
     "text": [
      "{'precision': 0.026091081593927895, 'map': 0.013548846794703147, 'ndcg': 0.01664624586796342, 'auc': 0.5124308785384644}\n"
     ]
    },
    {
     "name": "stderr",
     "output_type": "stream",
     "text": [
      "/home/kartushov/pet_projects/mfdp/.venv/lib/python3.8/site-packages/implicit/utils.py:138: ParameterWarning: Method expects CSR input, and was passed coo_matrix instead. Converting to CSR took 0.017775297164916992 seconds\n",
      "  warnings.warn(\n"
     ]
    },
    {
     "data": {
      "application/vnd.jupyter.widget-view+json": {
       "model_id": "c07368457d2f48a5a9d74de07811e4a9",
       "version_major": 2,
       "version_minor": 0
      },
      "text/plain": [
       "  0%|          | 0/59599 [00:00<?, ?it/s]"
      ]
     },
     "metadata": {},
     "output_type": "display_data"
    },
    {
     "data": {
      "application/vnd.jupyter.widget-view+json": {
       "model_id": "edfac22539d542399b7d417e45d7b010",
       "version_major": 2,
       "version_minor": 0
      },
      "text/plain": [
       "  0%|          | 0/1818 [00:00<?, ?it/s]"
      ]
     },
     "metadata": {},
     "output_type": "display_data"
    },
    {
     "name": "stdout",
     "output_type": "stream",
     "text": [
      "{'precision': 0.02621895124195032, 'map': 0.010178418635514348, 'ndcg': 0.013916590968798336, 'auc': 0.5120863295692538}\n"
     ]
    },
    {
     "name": "stderr",
     "output_type": "stream",
     "text": [
      "/home/kartushov/pet_projects/mfdp/.venv/lib/python3.8/site-packages/implicit/utils.py:138: ParameterWarning: Method expects CSR input, and was passed coo_matrix instead. Converting to CSR took 0.02915787696838379 seconds\n",
      "  warnings.warn(\n"
     ]
    },
    {
     "data": {
      "application/vnd.jupyter.widget-view+json": {
       "model_id": "29124ac301c64e65bd33c1cc61317ec4",
       "version_major": 2,
       "version_minor": 0
      },
      "text/plain": [
       "  0%|          | 0/59599 [00:00<?, ?it/s]"
      ]
     },
     "metadata": {},
     "output_type": "display_data"
    },
    {
     "data": {
      "application/vnd.jupyter.widget-view+json": {
       "model_id": "c7453a18153c43d28cb0039336518009",
       "version_major": 2,
       "version_minor": 0
      },
      "text/plain": [
       "  0%|          | 0/1746 [00:00<?, ?it/s]"
      ]
     },
     "metadata": {},
     "output_type": "display_data"
    },
    {
     "name": "stdout",
     "output_type": "stream",
     "text": [
      "{'precision': 0.03425309229305423, 'map': 0.015024288320393705, 'ndcg': 0.01987562181276478, 'auc': 0.5163355039720017}\n"
     ]
    },
    {
     "name": "stderr",
     "output_type": "stream",
     "text": [
      "/home/kartushov/pet_projects/mfdp/.venv/lib/python3.8/site-packages/implicit/utils.py:138: ParameterWarning: Method expects CSR input, and was passed coo_matrix instead. Converting to CSR took 0.018682003021240234 seconds\n",
      "  warnings.warn(\n"
     ]
    },
    {
     "data": {
      "application/vnd.jupyter.widget-view+json": {
       "model_id": "cb65ac31094644698085413e9e93b4f0",
       "version_major": 2,
       "version_minor": 0
      },
      "text/plain": [
       "  0%|          | 0/59599 [00:00<?, ?it/s]"
      ]
     },
     "metadata": {},
     "output_type": "display_data"
    },
    {
     "data": {
      "application/vnd.jupyter.widget-view+json": {
       "model_id": "1f2d2af6fbb647c5ab3ac189afd87bbe",
       "version_major": 2,
       "version_minor": 0
      },
      "text/plain": [
       "  0%|          | 0/1852 [00:00<?, ?it/s]"
      ]
     },
     "metadata": {},
     "output_type": "display_data"
    },
    {
     "name": "stdout",
     "output_type": "stream",
     "text": [
      "{'precision': 0.0287569573283859, 'map': 0.013534738649479468, 'ndcg': 0.01736841525306873, 'auc': 0.5140459598865635}\n"
     ]
    }
   ],
   "source": [
    "validation_tfidf()"
   ]
  },
  {
   "cell_type": "markdown",
   "metadata": {},
   "source": [
    "### ALS"
   ]
  },
  {
   "cell_type": "code",
   "execution_count": 81,
   "metadata": {},
   "outputs": [],
   "source": [
    "from implicit.als import AlternatingLeastSquares\n",
    "\n",
    "def validation_als():\n",
    "    for train_idx, test_idx, _ in folds_with_stats:\n",
    "\n",
    "        train = df.loc[train_idx]\n",
    "        test = df.loc[test_idx]\n",
    "\n",
    "        train_mat = get_coo_matrix(train).tocsr()\n",
    "        test_mat = get_coo_matrix(test).tocsr()\n",
    "\n",
    "        model = AlternatingLeastSquares(factors=32, iterations=30)\n",
    "        model.fit(train_mat.T)\n",
    "        print(ranking_metrics_at_k(model, train_mat.T, test_mat.T, K=10, show_progress=True))\n"
   ]
  },
  {
   "cell_type": "code",
   "execution_count": 82,
   "metadata": {},
   "outputs": [
    {
     "name": "stderr",
     "output_type": "stream",
     "text": [
      "/home/kartushov/pet_projects/mfdp/.venv/lib/python3.8/site-packages/implicit/utils.py:138: ParameterWarning: Method expects CSR input, and was passed csc_matrix instead. Converting to CSR took 0.06869125366210938 seconds\n",
      "  warnings.warn(\n"
     ]
    },
    {
     "data": {
      "application/vnd.jupyter.widget-view+json": {
       "model_id": "062a6bafb91c49b28b8932c8e73df8ec",
       "version_major": 2,
       "version_minor": 0
      },
      "text/plain": [
       "  0%|          | 0/30 [00:00<?, ?it/s]"
      ]
     },
     "metadata": {},
     "output_type": "display_data"
    },
    {
     "data": {
      "application/vnd.jupyter.widget-view+json": {
       "model_id": "09c1fafaeed941ffaee8e87f3f4d5fd5",
       "version_major": 2,
       "version_minor": 0
      },
      "text/plain": [
       "  0%|          | 0/1800 [00:00<?, ?it/s]"
      ]
     },
     "metadata": {},
     "output_type": "display_data"
    },
    {
     "name": "stdout",
     "output_type": "stream",
     "text": [
      "{'precision': 0.012720156555772993, 'map': 0.005175044091710759, 'ndcg': 0.007154570027605597, 'auc': 0.5065041953804952}\n"
     ]
    },
    {
     "name": "stderr",
     "output_type": "stream",
     "text": [
      "/home/kartushov/pet_projects/mfdp/.venv/lib/python3.8/site-packages/implicit/utils.py:138: ParameterWarning: Method expects CSR input, and was passed csc_matrix instead. Converting to CSR took 0.0661458969116211 seconds\n",
      "  warnings.warn(\n"
     ]
    },
    {
     "data": {
      "application/vnd.jupyter.widget-view+json": {
       "model_id": "77eff577220a4d979834f9950630151e",
       "version_major": 2,
       "version_minor": 0
      },
      "text/plain": [
       "  0%|          | 0/30 [00:00<?, ?it/s]"
      ]
     },
     "metadata": {},
     "output_type": "display_data"
    },
    {
     "data": {
      "application/vnd.jupyter.widget-view+json": {
       "model_id": "33793e8b883c4013a75c57cc3f5b2525",
       "version_major": 2,
       "version_minor": 0
      },
      "text/plain": [
       "  0%|          | 0/1891 [00:00<?, ?it/s]"
      ]
     },
     "metadata": {},
     "output_type": "display_data"
    },
    {
     "name": "stdout",
     "output_type": "stream",
     "text": [
      "{'precision': 0.012172284644194757, 'map': 0.003610670427169634, 'ndcg': 0.005849057879949373, 'auc': 0.5065949322965968}\n"
     ]
    },
    {
     "name": "stderr",
     "output_type": "stream",
     "text": [
      "/home/kartushov/pet_projects/mfdp/.venv/lib/python3.8/site-packages/implicit/utils.py:138: ParameterWarning: Method expects CSR input, and was passed csc_matrix instead. Converting to CSR took 0.05593609809875488 seconds\n",
      "  warnings.warn(\n"
     ]
    },
    {
     "data": {
      "application/vnd.jupyter.widget-view+json": {
       "model_id": "f9c46be8aee74ab9babf2556d7846300",
       "version_major": 2,
       "version_minor": 0
      },
      "text/plain": [
       "  0%|          | 0/30 [00:00<?, ?it/s]"
      ]
     },
     "metadata": {},
     "output_type": "display_data"
    },
    {
     "data": {
      "application/vnd.jupyter.widget-view+json": {
       "model_id": "094dd24ef790482ebadc242ce2914f38",
       "version_major": 2,
       "version_minor": 0
      },
      "text/plain": [
       "  0%|          | 0/1964 [00:00<?, ?it/s]"
      ]
     },
     "metadata": {},
     "output_type": "display_data"
    },
    {
     "name": "stdout",
     "output_type": "stream",
     "text": [
      "{'precision': 0.012419503219871205, 'map': 0.0045643002618562705, 'ndcg': 0.006590150255477193, 'auc': 0.5065226171514378}\n"
     ]
    },
    {
     "name": "stderr",
     "output_type": "stream",
     "text": [
      "/home/kartushov/pet_projects/mfdp/.venv/lib/python3.8/site-packages/implicit/utils.py:138: ParameterWarning: Method expects CSR input, and was passed csc_matrix instead. Converting to CSR took 0.056725502014160156 seconds\n",
      "  warnings.warn(\n"
     ]
    },
    {
     "data": {
      "application/vnd.jupyter.widget-view+json": {
       "model_id": "17d94660911d4fc781ffb325907c552f",
       "version_major": 2,
       "version_minor": 0
      },
      "text/plain": [
       "  0%|          | 0/30 [00:00<?, ?it/s]"
      ]
     },
     "metadata": {},
     "output_type": "display_data"
    },
    {
     "data": {
      "application/vnd.jupyter.widget-view+json": {
       "model_id": "1167b4db3a654597832eaa3805909c25",
       "version_major": 2,
       "version_minor": 0
      },
      "text/plain": [
       "  0%|          | 0/1868 [00:00<?, ?it/s]"
      ]
     },
     "metadata": {},
     "output_type": "display_data"
    },
    {
     "name": "stdout",
     "output_type": "stream",
     "text": [
      "{'precision': 0.012328117591275486, 'map': 0.004533326535467863, 'ndcg': 0.006471087823567863, 'auc': 0.5060788453111619}\n"
     ]
    },
    {
     "name": "stderr",
     "output_type": "stream",
     "text": [
      "/home/kartushov/pet_projects/mfdp/.venv/lib/python3.8/site-packages/implicit/utils.py:138: ParameterWarning: Method expects CSR input, and was passed csc_matrix instead. Converting to CSR took 0.053701162338256836 seconds\n",
      "  warnings.warn(\n"
     ]
    },
    {
     "data": {
      "application/vnd.jupyter.widget-view+json": {
       "model_id": "9800a54a79de476799ad17a8d9e1ba1c",
       "version_major": 2,
       "version_minor": 0
      },
      "text/plain": [
       "  0%|          | 0/30 [00:00<?, ?it/s]"
      ]
     },
     "metadata": {},
     "output_type": "display_data"
    },
    {
     "data": {
      "application/vnd.jupyter.widget-view+json": {
       "model_id": "99ad86c8c54144ed953321a442522188",
       "version_major": 2,
       "version_minor": 0
      },
      "text/plain": [
       "  0%|          | 0/1964 [00:00<?, ?it/s]"
      ]
     },
     "metadata": {},
     "output_type": "display_data"
    },
    {
     "name": "stdout",
     "output_type": "stream",
     "text": [
      "{'precision': 0.013692377909630305, 'map': 0.004979714221058417, 'ndcg': 0.0071928559745505416, 'auc': 0.5070954298455487}\n"
     ]
    },
    {
     "name": "stderr",
     "output_type": "stream",
     "text": [
      "/home/kartushov/pet_projects/mfdp/.venv/lib/python3.8/site-packages/implicit/utils.py:138: ParameterWarning: Method expects CSR input, and was passed csc_matrix instead. Converting to CSR took 0.05503106117248535 seconds\n",
      "  warnings.warn(\n"
     ]
    },
    {
     "data": {
      "application/vnd.jupyter.widget-view+json": {
       "model_id": "a93c970104ef4794888cf163c5ff0f44",
       "version_major": 2,
       "version_minor": 0
      },
      "text/plain": [
       "  0%|          | 0/30 [00:00<?, ?it/s]"
      ]
     },
     "metadata": {},
     "output_type": "display_data"
    },
    {
     "data": {
      "application/vnd.jupyter.widget-view+json": {
       "model_id": "304266791bc64f65a33390892268c71e",
       "version_major": 2,
       "version_minor": 0
      },
      "text/plain": [
       "  0%|          | 0/1883 [00:00<?, ?it/s]"
      ]
     },
     "metadata": {},
     "output_type": "display_data"
    },
    {
     "name": "stdout",
     "output_type": "stream",
     "text": [
      "{'precision': 0.015588096362777516, 'map': 0.005242710467086461, 'ndcg': 0.007689719911641783, 'auc': 0.5074905550397381}\n"
     ]
    },
    {
     "name": "stderr",
     "output_type": "stream",
     "text": [
      "/home/kartushov/pet_projects/mfdp/.venv/lib/python3.8/site-packages/implicit/utils.py:138: ParameterWarning: Method expects CSR input, and was passed csc_matrix instead. Converting to CSR took 0.055971384048461914 seconds\n",
      "  warnings.warn(\n"
     ]
    },
    {
     "data": {
      "application/vnd.jupyter.widget-view+json": {
       "model_id": "1b480d2033d34489829f89b6a4b851f0",
       "version_major": 2,
       "version_minor": 0
      },
      "text/plain": [
       "  0%|          | 0/30 [00:00<?, ?it/s]"
      ]
     },
     "metadata": {},
     "output_type": "display_data"
    },
    {
     "data": {
      "application/vnd.jupyter.widget-view+json": {
       "model_id": "f8e339a09d8641b49666ffe7fd41f783",
       "version_major": 2,
       "version_minor": 0
      },
      "text/plain": [
       "  0%|          | 0/1949 [00:00<?, ?it/s]"
      ]
     },
     "metadata": {},
     "output_type": "display_data"
    },
    {
     "name": "stdout",
     "output_type": "stream",
     "text": [
      "{'precision': 0.014780600461893764, 'map': 0.0036922679110980806, 'ndcg': 0.006180762020739723, 'auc': 0.5068448382635586}\n"
     ]
    }
   ],
   "source": [
    "validation_als()"
   ]
  },
  {
   "cell_type": "code",
   "execution_count": 129,
   "metadata": {},
   "outputs": [],
   "source": [
    "from implicit.bpr import BayesianPersonalizedRanking\n",
    "\n",
    "def validation_bpr():\n",
    "    for train_idx, test_idx, _ in folds_with_stats:\n",
    "\n",
    "        train = df.loc[train_idx]\n",
    "        test = df.loc[test_idx]\n",
    "\n",
    "        train_mat = get_coo_matrix(train).tocsr()\n",
    "        test_mat = get_coo_matrix(test).tocsr()\n",
    "\n",
    "        model = BayesianPersonalizedRanking(factors=32, iterations=30)\n",
    "        model.fit(train_mat.T)\n",
    "        print(ranking_metrics_at_k(model, train_mat.T, test_mat.T, K=10, show_progress=True))\n"
   ]
  },
  {
   "cell_type": "code",
   "execution_count": 130,
   "metadata": {},
   "outputs": [
    {
     "name": "stderr",
     "output_type": "stream",
     "text": [
      "/home/kartushov/pet_projects/mfdp/.venv/lib/python3.8/site-packages/implicit/utils.py:138: ParameterWarning: Method expects CSR input, and was passed csc_matrix instead. Converting to CSR took 0.04668259620666504 seconds\n",
      "  warnings.warn(\n"
     ]
    },
    {
     "data": {
      "application/vnd.jupyter.widget-view+json": {
       "model_id": "ae471099f93645bd99e327bdf6ee3423",
       "version_major": 2,
       "version_minor": 0
      },
      "text/plain": [
       "  0%|          | 0/30 [00:00<?, ?it/s]"
      ]
     },
     "metadata": {},
     "output_type": "display_data"
    },
    {
     "data": {
      "application/vnd.jupyter.widget-view+json": {
       "model_id": "48a4bc9f6ef24aa48a154075552ee9e2",
       "version_major": 2,
       "version_minor": 0
      },
      "text/plain": [
       "  0%|          | 0/1800 [00:00<?, ?it/s]"
      ]
     },
     "metadata": {},
     "output_type": "display_data"
    },
    {
     "name": "stdout",
     "output_type": "stream",
     "text": [
      "{'precision': 0.007338551859099804, 'map': 0.0018214285714285713, 'ndcg': 0.0030834481856519694, 'auc': 0.5034947984976424}\n"
     ]
    },
    {
     "name": "stderr",
     "output_type": "stream",
     "text": [
      "/home/kartushov/pet_projects/mfdp/.venv/lib/python3.8/site-packages/implicit/utils.py:138: ParameterWarning: Method expects CSR input, and was passed csc_matrix instead. Converting to CSR took 0.027590036392211914 seconds\n",
      "  warnings.warn(\n"
     ]
    },
    {
     "data": {
      "application/vnd.jupyter.widget-view+json": {
       "model_id": "f56df77078804c4aa778ad882e9b7e46",
       "version_major": 2,
       "version_minor": 0
      },
      "text/plain": [
       "  0%|          | 0/30 [00:00<?, ?it/s]"
      ]
     },
     "metadata": {},
     "output_type": "display_data"
    },
    {
     "data": {
      "application/vnd.jupyter.widget-view+json": {
       "model_id": "78dd348513fd4197ab1924c885702913",
       "version_major": 2,
       "version_minor": 0
      },
      "text/plain": [
       "  0%|          | 0/1891 [00:00<?, ?it/s]"
      ]
     },
     "metadata": {},
     "output_type": "display_data"
    },
    {
     "name": "stdout",
     "output_type": "stream",
     "text": [
      "{'precision': 0.00749063670411985, 'map': 0.002255987006119211, 'ndcg': 0.003579840485812787, 'auc': 0.5039992497055695}\n"
     ]
    },
    {
     "name": "stderr",
     "output_type": "stream",
     "text": [
      "/home/kartushov/pet_projects/mfdp/.venv/lib/python3.8/site-packages/implicit/utils.py:138: ParameterWarning: Method expects CSR input, and was passed csc_matrix instead. Converting to CSR took 0.11632800102233887 seconds\n",
      "  warnings.warn(\n"
     ]
    },
    {
     "data": {
      "application/vnd.jupyter.widget-view+json": {
       "model_id": "98d3e8d8368c4336816190c0e99db995",
       "version_major": 2,
       "version_minor": 0
      },
      "text/plain": [
       "  0%|          | 0/30 [00:00<?, ?it/s]"
      ]
     },
     "metadata": {},
     "output_type": "display_data"
    },
    {
     "data": {
      "application/vnd.jupyter.widget-view+json": {
       "model_id": "88346775650c424f84fbf8418745bbb3",
       "version_major": 2,
       "version_minor": 0
      },
      "text/plain": [
       "  0%|          | 0/1964 [00:00<?, ?it/s]"
      ]
     },
     "metadata": {},
     "output_type": "display_data"
    },
    {
     "name": "stdout",
     "output_type": "stream",
     "text": [
      "{'precision': 0.0068997240110395585, 'map': 0.0016540789771441503, 'ndcg': 0.0029589982714022267, 'auc': 0.5036584293558326}\n"
     ]
    },
    {
     "name": "stderr",
     "output_type": "stream",
     "text": [
      "/home/kartushov/pet_projects/mfdp/.venv/lib/python3.8/site-packages/implicit/utils.py:138: ParameterWarning: Method expects CSR input, and was passed csc_matrix instead. Converting to CSR took 0.13330459594726562 seconds\n",
      "  warnings.warn(\n"
     ]
    },
    {
     "data": {
      "application/vnd.jupyter.widget-view+json": {
       "model_id": "1a79d73ef7054bc09deb90dba43f2ecc",
       "version_major": 2,
       "version_minor": 0
      },
      "text/plain": [
       "  0%|          | 0/30 [00:00<?, ?it/s]"
      ]
     },
     "metadata": {},
     "output_type": "display_data"
    },
    {
     "data": {
      "application/vnd.jupyter.widget-view+json": {
       "model_id": "34d295cb04ad4855a7fb107b2da4fade",
       "version_major": 2,
       "version_minor": 0
      },
      "text/plain": [
       "  0%|          | 0/1868 [00:00<?, ?it/s]"
      ]
     },
     "metadata": {},
     "output_type": "display_data"
    },
    {
     "name": "stdout",
     "output_type": "stream",
     "text": [
      "{'precision': 0.00948316737790422, 'map': 0.002734547602052955, 'ndcg': 0.004468251158077359, 'auc': 0.5048519969685431}\n"
     ]
    },
    {
     "name": "stderr",
     "output_type": "stream",
     "text": [
      "/home/kartushov/pet_projects/mfdp/.venv/lib/python3.8/site-packages/implicit/utils.py:138: ParameterWarning: Method expects CSR input, and was passed csc_matrix instead. Converting to CSR took 0.09078717231750488 seconds\n",
      "  warnings.warn(\n"
     ]
    },
    {
     "data": {
      "application/vnd.jupyter.widget-view+json": {
       "model_id": "695cb36d61a74ce3beffd3330cc95511",
       "version_major": 2,
       "version_minor": 0
      },
      "text/plain": [
       "  0%|          | 0/30 [00:00<?, ?it/s]"
      ]
     },
     "metadata": {},
     "output_type": "display_data"
    },
    {
     "data": {
      "application/vnd.jupyter.widget-view+json": {
       "model_id": "f9a3c98facf3402b97c3de22a623a810",
       "version_major": 2,
       "version_minor": 0
      },
      "text/plain": [
       "  0%|          | 0/1964 [00:00<?, ?it/s]"
      ]
     },
     "metadata": {},
     "output_type": "display_data"
    },
    {
     "name": "stdout",
     "output_type": "stream",
     "text": [
      "{'precision': 0.006846188954815153, 'map': 0.0020180713154236574, 'ndcg': 0.0032646776497850466, 'auc': 0.5036584781050457}\n"
     ]
    },
    {
     "name": "stderr",
     "output_type": "stream",
     "text": [
      "/home/kartushov/pet_projects/mfdp/.venv/lib/python3.8/site-packages/implicit/utils.py:138: ParameterWarning: Method expects CSR input, and was passed csc_matrix instead. Converting to CSR took 0.03910470008850098 seconds\n",
      "  warnings.warn(\n"
     ]
    },
    {
     "data": {
      "application/vnd.jupyter.widget-view+json": {
       "model_id": "b5d34076005942c28c490d611d8bf832",
       "version_major": 2,
       "version_minor": 0
      },
      "text/plain": [
       "  0%|          | 0/30 [00:00<?, ?it/s]"
      ]
     },
     "metadata": {},
     "output_type": "display_data"
    },
    {
     "data": {
      "application/vnd.jupyter.widget-view+json": {
       "model_id": "ce2eff85f6b946369155ab345608b4ef",
       "version_major": 2,
       "version_minor": 0
      },
      "text/plain": [
       "  0%|          | 0/1883 [00:00<?, ?it/s]"
      ]
     },
     "metadata": {},
     "output_type": "display_data"
    },
    {
     "name": "stdout",
     "output_type": "stream",
     "text": [
      "{'precision': 0.008974964572508267, 'map': 0.003714732485311348, 'ndcg': 0.0049192011241396445, 'auc': 0.5038616052563062}\n"
     ]
    },
    {
     "name": "stderr",
     "output_type": "stream",
     "text": [
      "/home/kartushov/pet_projects/mfdp/.venv/lib/python3.8/site-packages/implicit/utils.py:138: ParameterWarning: Method expects CSR input, and was passed csc_matrix instead. Converting to CSR took 0.03510904312133789 seconds\n",
      "  warnings.warn(\n"
     ]
    },
    {
     "data": {
      "application/vnd.jupyter.widget-view+json": {
       "model_id": "952ff81c36df4822901d57dbe4f413c3",
       "version_major": 2,
       "version_minor": 0
      },
      "text/plain": [
       "  0%|          | 0/30 [00:00<?, ?it/s]"
      ]
     },
     "metadata": {},
     "output_type": "display_data"
    },
    {
     "data": {
      "application/vnd.jupyter.widget-view+json": {
       "model_id": "b0c64b6952f64afb94c30a32f3872738",
       "version_major": 2,
       "version_minor": 0
      },
      "text/plain": [
       "  0%|          | 0/1949 [00:00<?, ?it/s]"
      ]
     },
     "metadata": {},
     "output_type": "display_data"
    },
    {
     "name": "stdout",
     "output_type": "stream",
     "text": [
      "{'precision': 0.006928406466512702, 'map': 0.0022154218280436857, 'ndcg': 0.0034454961393265227, 'auc': 0.503686920231783}\n"
     ]
    }
   ],
   "source": [
    "validation_bpr()"
   ]
  },
  {
   "cell_type": "code",
   "execution_count": 3,
   "metadata": {},
   "outputs": [
    {
     "name": "stdout",
     "output_type": "stream",
     "text": [
      "(159613, 321752)\n"
     ]
    },
    {
     "name": "stderr",
     "output_type": "stream",
     "text": [
      "/home/kartushov/pet_projects/mfdp/.venv/lib/python3.8/site-packages/implicit/gpu/__init__.py:13: UserWarning: CUDA extension is built, but disabling GPU support because of 'Cuda Error: no CUDA-capable device is detected (/project/./implicit/gpu/utils.h:71)'\n",
      "  warnings.warn(\n"
     ]
    }
   ],
   "source": [
    "import implicit\n",
    "\n",
    "import scipy.sparse as sp\n",
    "\n",
    "# создание разреженной матрицы\n",
    "interactions_sparse = sp.coo_matrix((df['rating'].astype(float), \n",
    "                                  (df['user_id'].unique(), df['item_id'].unique())))\n",
    "\n",
    "# проверка размерности матрицы\n",
    "print(interactions_sparse.shape)"
   ]
  },
  {
   "cell_type": "code",
   "execution_count": 4,
   "metadata": {},
   "outputs": [
    {
     "data": {
      "text/plain": [
       "(151600, 59599)"
      ]
     },
     "execution_count": 4,
     "metadata": {},
     "output_type": "execute_result"
    }
   ],
   "source": [
    "df['user_id'].nunique(), df['item_id'].nunique()"
   ]
  },
  {
   "cell_type": "code",
   "execution_count": null,
   "metadata": {},
   "outputs": [],
   "source": [
    "df['rating'].fillna(0) * df['progress'] np.log()"
   ]
  },
  {
   "cell_type": "code",
   "execution_count": 33,
   "metadata": {},
   "outputs": [],
   "source": [
    "import datetime\n",
    "\n",
    "alpha = 0.01 # параметр затухания веса\n",
    "today = datetime.datetime.today()\n",
    "df['start_date'] = pd.to_datetime(df['start_date'])\n",
    "df['days_since_interaction'] = (today - df['start_date']).dt.days"
   ]
  },
  {
   "cell_type": "code",
   "execution_count": 34,
   "metadata": {},
   "outputs": [],
   "source": [
    "df['weight'] = 1 / (1 + alpha * df['days_since_interaction'])"
   ]
  },
  {
   "cell_type": "code",
   "execution_count": 36,
   "metadata": {},
   "outputs": [],
   "source": [
    "df['target'] = df['rating'].fillna(0) * df['progress'] * df['weight']"
   ]
  },
  {
   "cell_type": "code",
   "execution_count": 1,
   "metadata": {},
   "outputs": [
    {
     "name": "stderr",
     "output_type": "stream",
     "text": [
      "/home/kartushov/pet_projects/mfdp/.venv/lib/python3.8/site-packages/implicit/gpu/__init__.py:13: UserWarning: CUDA extension is built, but disabling GPU support because of 'Cuda Error: no CUDA-capable device is detected (/project/./implicit/gpu/utils.h:71)'\n",
      "  warnings.warn(\n"
     ]
    },
    {
     "name": "stdout",
     "output_type": "stream",
     "text": [
      "(159613, 321752)\n"
     ]
    }
   ],
   "source": [
    "import implicit\n",
    "\n",
    "import scipy.sparse as sp\n",
    "import pandas as pd\n",
    "import numpy as np\n",
    "df = pd.read_csv('../src/data/interactions.csv')\n",
    "df_users = pd.read_csv('../src/data/users.csv')\n",
    "df_items = pd.read_csv('../src/data/items.csv')\n",
    "\n",
    "# создание разреженной матрицы\n",
    "interactions_sparse = sp.coo_matrix((df['rating'].fillna(0).astype(float), \n",
    "                                  (df['user_id'].astype(int), df['item_id'].astype(int))))\n",
    "\n",
    "# проверка размерности матрицы\n",
    "print(interactions_sparse.shape)"
   ]
  },
  {
   "cell_type": "code",
   "execution_count": 10,
   "metadata": {},
   "outputs": [
    {
     "data": {
      "text/html": [
       "<div>\n",
       "<style scoped>\n",
       "    .dataframe tbody tr th:only-of-type {\n",
       "        vertical-align: middle;\n",
       "    }\n",
       "\n",
       "    .dataframe tbody tr th {\n",
       "        vertical-align: top;\n",
       "    }\n",
       "\n",
       "    .dataframe thead th {\n",
       "        text-align: right;\n",
       "    }\n",
       "</style>\n",
       "<table border=\"1\" class=\"dataframe\">\n",
       "  <thead>\n",
       "    <tr style=\"text-align: right;\">\n",
       "      <th></th>\n",
       "      <th>id</th>\n",
       "      <th>title</th>\n",
       "      <th>genres</th>\n",
       "      <th>authors</th>\n",
       "      <th>year</th>\n",
       "    </tr>\n",
       "  </thead>\n",
       "  <tbody>\n",
       "    <tr>\n",
       "      <th>0</th>\n",
       "      <td>128115</td>\n",
       "      <td>Ворон-челобитчик</td>\n",
       "      <td>Зарубежные детские книги,Сказки,Зарубежная кла...</td>\n",
       "      <td>Михаил Салтыков-Щедрин</td>\n",
       "      <td>1886</td>\n",
       "    </tr>\n",
       "    <tr>\n",
       "      <th>1</th>\n",
       "      <td>210979</td>\n",
       "      <td>Скрипка Ротшильда</td>\n",
       "      <td>Классическая проза,Литература 19 века,Русская ...</td>\n",
       "      <td>Антон Чехов</td>\n",
       "      <td>1894</td>\n",
       "    </tr>\n",
       "    <tr>\n",
       "      <th>2</th>\n",
       "      <td>95632</td>\n",
       "      <td>Испорченные дети</td>\n",
       "      <td>Зарубежная классика,Классическая проза,Литерат...</td>\n",
       "      <td>Михаил Салтыков-Щедрин</td>\n",
       "      <td>1869</td>\n",
       "    </tr>\n",
       "    <tr>\n",
       "      <th>3</th>\n",
       "      <td>247906</td>\n",
       "      <td>Странный человек</td>\n",
       "      <td>Пьесы и драматургия,Литература 19 века</td>\n",
       "      <td>Михаил Лермонтов</td>\n",
       "      <td>1831</td>\n",
       "    </tr>\n",
       "    <tr>\n",
       "      <th>4</th>\n",
       "      <td>294280</td>\n",
       "      <td>Господа ташкентцы</td>\n",
       "      <td>Зарубежная классика,Классическая проза,Литерат...</td>\n",
       "      <td>Михаил Салтыков-Щедрин</td>\n",
       "      <td>1873</td>\n",
       "    </tr>\n",
       "    <tr>\n",
       "      <th>...</th>\n",
       "      <td>...</td>\n",
       "      <td>...</td>\n",
       "      <td>...</td>\n",
       "      <td>...</td>\n",
       "      <td>...</td>\n",
       "    </tr>\n",
       "    <tr>\n",
       "      <th>59594</th>\n",
       "      <td>45640</td>\n",
       "      <td>МК Московский Комсомолец 291-2019</td>\n",
       "      <td>Политология,Книги по экономике,Газеты</td>\n",
       "      <td>NaN</td>\n",
       "      <td>2019</td>\n",
       "    </tr>\n",
       "    <tr>\n",
       "      <th>59595</th>\n",
       "      <td>321616</td>\n",
       "      <td>МК Московский Комсомолец 292-2019</td>\n",
       "      <td>Политология,Книги по экономике,Газеты</td>\n",
       "      <td>NaN</td>\n",
       "      <td>2019</td>\n",
       "    </tr>\n",
       "    <tr>\n",
       "      <th>59596</th>\n",
       "      <td>125582</td>\n",
       "      <td>Известия 248-249-2019</td>\n",
       "      <td>Политология,Общая история,Газеты</td>\n",
       "      <td>NaN</td>\n",
       "      <td>2019</td>\n",
       "    </tr>\n",
       "    <tr>\n",
       "      <th>59597</th>\n",
       "      <td>33188</td>\n",
       "      <td>Men's Health 01-2020</td>\n",
       "      <td>Журнальные издания</td>\n",
       "      <td>NaN</td>\n",
       "      <td>2019</td>\n",
       "    </tr>\n",
       "    <tr>\n",
       "      <th>59598</th>\n",
       "      <td>65317</td>\n",
       "      <td>Знание-сила 01-2020</td>\n",
       "      <td>Журнальные издания,Энциклопедии,Научная фантас...</td>\n",
       "      <td>NaN</td>\n",
       "      <td>2019</td>\n",
       "    </tr>\n",
       "  </tbody>\n",
       "</table>\n",
       "<p>59599 rows × 5 columns</p>\n",
       "</div>"
      ],
      "text/plain": [
       "           id                              title  \\\n",
       "0      128115                   Ворон-челобитчик   \n",
       "1      210979                  Скрипка Ротшильда   \n",
       "2       95632                   Испорченные дети   \n",
       "3      247906                   Странный человек   \n",
       "4      294280                  Господа ташкентцы   \n",
       "...       ...                                ...   \n",
       "59594   45640  МК Московский Комсомолец 291-2019   \n",
       "59595  321616  МК Московский Комсомолец 292-2019   \n",
       "59596  125582              Известия 248-249-2019   \n",
       "59597   33188               Men's Health 01-2020   \n",
       "59598   65317                Знание-сила 01-2020   \n",
       "\n",
       "                                                  genres  \\\n",
       "0      Зарубежные детские книги,Сказки,Зарубежная кла...   \n",
       "1      Классическая проза,Литература 19 века,Русская ...   \n",
       "2      Зарубежная классика,Классическая проза,Литерат...   \n",
       "3                 Пьесы и драматургия,Литература 19 века   \n",
       "4      Зарубежная классика,Классическая проза,Литерат...   \n",
       "...                                                  ...   \n",
       "59594              Политология,Книги по экономике,Газеты   \n",
       "59595              Политология,Книги по экономике,Газеты   \n",
       "59596                   Политология,Общая история,Газеты   \n",
       "59597                                 Журнальные издания   \n",
       "59598  Журнальные издания,Энциклопедии,Научная фантас...   \n",
       "\n",
       "                      authors  year  \n",
       "0      Михаил Салтыков-Щедрин  1886  \n",
       "1                 Антон Чехов  1894  \n",
       "2      Михаил Салтыков-Щедрин  1869  \n",
       "3            Михаил Лермонтов  1831  \n",
       "4      Михаил Салтыков-Щедрин  1873  \n",
       "...                       ...   ...  \n",
       "59594                     NaN  2019  \n",
       "59595                     NaN  2019  \n",
       "59596                     NaN  2019  \n",
       "59597                     NaN  2019  \n",
       "59598                     NaN  2019  \n",
       "\n",
       "[59599 rows x 5 columns]"
      ]
     },
     "execution_count": 10,
     "metadata": {},
     "output_type": "execute_result"
    }
   ],
   "source": [
    "df_items"
   ]
  },
  {
   "cell_type": "code",
   "execution_count": 2,
   "metadata": {},
   "outputs": [
    {
     "name": "stderr",
     "output_type": "stream",
     "text": [
      "/home/kartushov/pet_projects/mfdp/.venv/lib/python3.8/site-packages/implicit/utils.py:138: ParameterWarning: Method expects CSR input, and was passed coo_matrix instead. Converting to CSR took 0.0764913558959961 seconds\n",
      "  warnings.warn(\n"
     ]
    },
    {
     "data": {
      "application/vnd.jupyter.widget-view+json": {
       "model_id": "27ad759f0ecd45d693b3677bf9fd7b89",
       "version_major": 2,
       "version_minor": 0
      },
      "text/plain": [
       "  0%|          | 0/321752 [00:00<?, ?it/s]"
      ]
     },
     "metadata": {},
     "output_type": "display_data"
    }
   ],
   "source": [
    "import implicit\n",
    "\n",
    "# создание модели ALS\n",
    "model = implicit.nearest_neighbours.BM25Recommender()\n",
    "\n",
    "# обучение модели на разреженной матрице\n",
    "model.fit(interactions_sparse)\n"
   ]
  },
  {
   "cell_type": "code",
   "execution_count": 31,
   "metadata": {},
   "outputs": [
    {
     "data": {
      "text/plain": [
       "False"
      ]
     },
     "execution_count": 31,
     "metadata": {},
     "output_type": "execute_result"
    }
   ],
   "source": [
    "model."
   ]
  },
  {
   "cell_type": "code",
   "execution_count": 9,
   "metadata": {},
   "outputs": [
    {
     "data": {
      "text/plain": [
       "(array([112631,  74077, 290506, 133013, 264997, 221955, 116389, 291419,\n",
       "        284240, 102713], dtype=int32),\n",
       " array([40.41261351, 27.91169154, 25.29551361, 18.15217177, 18.09222581,\n",
       "         9.05779443,  8.45278027,  8.29824887,  8.15841758,  7.90016908]))"
      ]
     },
     "execution_count": 9,
     "metadata": {},
     "output_type": "execute_result"
    }
   ],
   "source": [
    "model.similar_items(112631)"
   ]
  },
  {
   "cell_type": "code",
   "execution_count": 13,
   "metadata": {},
   "outputs": [
    {
     "data": {
      "text/plain": [
       "(array([     0,  27967,  15368,   5733,  80232,  19471, 149922, 117648,\n",
       "        138391,  10195], dtype=int32),\n",
       " array([1.        , 0.99515957, 0.99515665, 0.9946987 , 0.99348134,\n",
       "        0.99299914, 0.9928156 , 0.992757  , 0.99275124, 0.992703  ],\n",
       "       dtype=float32))"
      ]
     },
     "execution_count": 13,
     "metadata": {},
     "output_type": "execute_result"
    }
   ],
   "source": [
    "model.similar_users(0)"
   ]
  },
  {
   "cell_type": "code",
   "execution_count": 19,
   "metadata": {},
   "outputs": [],
   "source": [
    "similar_users = model.similar_users(0)[0][1:]"
   ]
  },
  {
   "cell_type": "code",
   "execution_count": 32,
   "metadata": {},
   "outputs": [
    {
     "data": {
      "text/html": [
       "<div>\n",
       "<style scoped>\n",
       "    .dataframe tbody tr th:only-of-type {\n",
       "        vertical-align: middle;\n",
       "    }\n",
       "\n",
       "    .dataframe tbody tr th {\n",
       "        vertical-align: top;\n",
       "    }\n",
       "\n",
       "    .dataframe thead th {\n",
       "        text-align: right;\n",
       "    }\n",
       "</style>\n",
       "<table border=\"1\" class=\"dataframe\">\n",
       "  <thead>\n",
       "    <tr style=\"text-align: right;\">\n",
       "      <th></th>\n",
       "      <th>user_id</th>\n",
       "      <th>item_id</th>\n",
       "      <th>progress</th>\n",
       "      <th>rating</th>\n",
       "      <th>start_date</th>\n",
       "    </tr>\n",
       "  </thead>\n",
       "  <tbody>\n",
       "    <tr>\n",
       "      <th>46058</th>\n",
       "      <td>138391</td>\n",
       "      <td>249137</td>\n",
       "      <td>37</td>\n",
       "      <td>NaN</td>\n",
       "      <td>2018-01-23</td>\n",
       "    </tr>\n",
       "    <tr>\n",
       "      <th>47912</th>\n",
       "      <td>117648</td>\n",
       "      <td>255124</td>\n",
       "      <td>94</td>\n",
       "      <td>NaN</td>\n",
       "      <td>2018-01-24</td>\n",
       "    </tr>\n",
       "    <tr>\n",
       "      <th>108397</th>\n",
       "      <td>80232</td>\n",
       "      <td>154409</td>\n",
       "      <td>27</td>\n",
       "      <td>5.0</td>\n",
       "      <td>2018-02-21</td>\n",
       "    </tr>\n",
       "    <tr>\n",
       "      <th>151065</th>\n",
       "      <td>27967</td>\n",
       "      <td>138728</td>\n",
       "      <td>77</td>\n",
       "      <td>5.0</td>\n",
       "      <td>2018-03-14</td>\n",
       "    </tr>\n",
       "    <tr>\n",
       "      <th>201603</th>\n",
       "      <td>138391</td>\n",
       "      <td>90025</td>\n",
       "      <td>71</td>\n",
       "      <td>NaN</td>\n",
       "      <td>2018-04-07</td>\n",
       "    </tr>\n",
       "    <tr>\n",
       "      <th>...</th>\n",
       "      <td>...</td>\n",
       "      <td>...</td>\n",
       "      <td>...</td>\n",
       "      <td>...</td>\n",
       "      <td>...</td>\n",
       "    </tr>\n",
       "    <tr>\n",
       "      <th>1361635</th>\n",
       "      <td>27967</td>\n",
       "      <td>230685</td>\n",
       "      <td>49</td>\n",
       "      <td>NaN</td>\n",
       "      <td>2019-10-11</td>\n",
       "    </tr>\n",
       "    <tr>\n",
       "      <th>1403504</th>\n",
       "      <td>138391</td>\n",
       "      <td>202059</td>\n",
       "      <td>28</td>\n",
       "      <td>NaN</td>\n",
       "      <td>2019-10-31</td>\n",
       "    </tr>\n",
       "    <tr>\n",
       "      <th>1443983</th>\n",
       "      <td>149922</td>\n",
       "      <td>254120</td>\n",
       "      <td>64</td>\n",
       "      <td>NaN</td>\n",
       "      <td>2019-11-19</td>\n",
       "    </tr>\n",
       "    <tr>\n",
       "      <th>1506949</th>\n",
       "      <td>138391</td>\n",
       "      <td>263212</td>\n",
       "      <td>100</td>\n",
       "      <td>NaN</td>\n",
       "      <td>2019-12-19</td>\n",
       "    </tr>\n",
       "    <tr>\n",
       "      <th>1515202</th>\n",
       "      <td>5733</td>\n",
       "      <td>11673</td>\n",
       "      <td>69</td>\n",
       "      <td>NaN</td>\n",
       "      <td>2019-12-23</td>\n",
       "    </tr>\n",
       "  </tbody>\n",
       "</table>\n",
       "<p>64 rows × 5 columns</p>\n",
       "</div>"
      ],
      "text/plain": [
       "         user_id  item_id  progress  rating  start_date\n",
       "46058     138391   249137        37     NaN  2018-01-23\n",
       "47912     117648   255124        94     NaN  2018-01-24\n",
       "108397     80232   154409        27     5.0  2018-02-21\n",
       "151065     27967   138728        77     5.0  2018-03-14\n",
       "201603    138391    90025        71     NaN  2018-04-07\n",
       "...          ...      ...       ...     ...         ...\n",
       "1361635    27967   230685        49     NaN  2019-10-11\n",
       "1403504   138391   202059        28     NaN  2019-10-31\n",
       "1443983   149922   254120        64     NaN  2019-11-19\n",
       "1506949   138391   263212       100     NaN  2019-12-19\n",
       "1515202     5733    11673        69     NaN  2019-12-23\n",
       "\n",
       "[64 rows x 5 columns]"
      ]
     },
     "execution_count": 32,
     "metadata": {},
     "output_type": "execute_result"
    }
   ],
   "source": [
    "df[df['user_id'].isin(similar_users)]"
   ]
  },
  {
   "cell_type": "code",
   "execution_count": null,
   "metadata": {},
   "outputs": [],
   "source": [
    "df"
   ]
  },
  {
   "cell_type": "code",
   "execution_count": 7,
   "metadata": {},
   "outputs": [
    {
     "name": "stdout",
     "output_type": "stream",
     "text": [
      "Unexpected exception formatting exception. Falling back to standard exception\n"
     ]
    },
    {
     "name": "stderr",
     "output_type": "stream",
     "text": [
      "Traceback (most recent call last):\n",
      "  File \"/home/kartushov/pet_projects/mfdp/.venv/lib/python3.8/site-packages/IPython/core/interactiveshell.py\", line 3460, in run_code\n",
      "    exec(code_obj, self.user_global_ns, self.user_ns)\n",
      "  File \"/tmp/ipykernel_34762/3495297340.py\", line 2, in <module>\n",
      "    recommendations = model.recommend(user_id, user_items)\n",
      "NameError: name 'model' is not defined\n",
      "\n",
      "During handling of the above exception, another exception occurred:\n",
      "\n",
      "Traceback (most recent call last):\n",
      "  File \"/home/kartushov/pet_projects/mfdp/.venv/lib/python3.8/site-packages/IPython/core/interactiveshell.py\", line 2057, in showtraceback\n",
      "    stb = self.InteractiveTB.structured_traceback(\n",
      "  File \"/home/kartushov/pet_projects/mfdp/.venv/lib/python3.8/site-packages/IPython/core/ultratb.py\", line 1288, in structured_traceback\n",
      "    return FormattedTB.structured_traceback(\n",
      "  File \"/home/kartushov/pet_projects/mfdp/.venv/lib/python3.8/site-packages/IPython/core/ultratb.py\", line 1177, in structured_traceback\n",
      "    return VerboseTB.structured_traceback(\n",
      "  File \"/home/kartushov/pet_projects/mfdp/.venv/lib/python3.8/site-packages/IPython/core/ultratb.py\", line 1030, in structured_traceback\n",
      "    formatted_exception = self.format_exception_as_a_whole(etype, evalue, etb, number_of_lines_of_context,\n",
      "  File \"/home/kartushov/pet_projects/mfdp/.venv/lib/python3.8/site-packages/IPython/core/ultratb.py\", line 960, in format_exception_as_a_whole\n",
      "    frames.append(self.format_record(record))\n",
      "  File \"/home/kartushov/pet_projects/mfdp/.venv/lib/python3.8/site-packages/IPython/core/ultratb.py\", line 870, in format_record\n",
      "    frame_info.lines, Colors, self.has_colors, lvals\n",
      "  File \"/home/kartushov/pet_projects/mfdp/.venv/lib/python3.8/site-packages/IPython/core/ultratb.py\", line 704, in lines\n",
      "    return self._sd.lines\n",
      "  File \"/home/kartushov/pet_projects/mfdp/.venv/lib/python3.8/site-packages/stack_data/utils.py\", line 144, in cached_property_wrapper\n",
      "    value = obj.__dict__[self.func.__name__] = self.func(obj)\n",
      "  File \"/home/kartushov/pet_projects/mfdp/.venv/lib/python3.8/site-packages/stack_data/core.py\", line 734, in lines\n",
      "    pieces = self.included_pieces\n",
      "  File \"/home/kartushov/pet_projects/mfdp/.venv/lib/python3.8/site-packages/stack_data/utils.py\", line 144, in cached_property_wrapper\n",
      "    value = obj.__dict__[self.func.__name__] = self.func(obj)\n",
      "  File \"/home/kartushov/pet_projects/mfdp/.venv/lib/python3.8/site-packages/stack_data/core.py\", line 677, in included_pieces\n",
      "    scope_pieces = self.scope_pieces\n",
      "  File \"/home/kartushov/pet_projects/mfdp/.venv/lib/python3.8/site-packages/stack_data/utils.py\", line 144, in cached_property_wrapper\n",
      "    value = obj.__dict__[self.func.__name__] = self.func(obj)\n",
      "  File \"/home/kartushov/pet_projects/mfdp/.venv/lib/python3.8/site-packages/stack_data/core.py\", line 614, in scope_pieces\n",
      "    scope_start, scope_end = self.source.line_range(self.scope)\n",
      "  File \"/home/kartushov/pet_projects/mfdp/.venv/lib/python3.8/site-packages/stack_data/core.py\", line 178, in line_range\n",
      "    return line_range(self.asttext(), node)\n",
      "  File \"/home/kartushov/pet_projects/mfdp/.venv/lib/python3.8/site-packages/executing/executing.py\", line 428, in asttext\n",
      "    self._asttext = ASTText(self.text, tree=self.tree, filename=self.filename)\n",
      "  File \"/home/kartushov/pet_projects/mfdp/.venv/lib/python3.8/site-packages/asttokens/asttokens.py\", line 307, in __init__\n",
      "    super(ASTText, self).__init__(source_text, filename)\n",
      "  File \"/home/kartushov/pet_projects/mfdp/.venv/lib/python3.8/site-packages/asttokens/asttokens.py\", line 44, in __init__\n",
      "    source_text = six.ensure_text(source_text)\n",
      "AttributeError: module 'six' has no attribute 'ensure_text'\n"
     ]
    }
   ],
   "source": [
    "user_items = interactions_sparse.T.tocsr()\n",
    "recommendations = model.recommend(user_id, user_items)"
   ]
  },
  {
   "cell_type": "code",
   "execution_count": 1,
   "metadata": {},
   "outputs": [
    {
     "name": "stdout",
     "output_type": "stream",
     "text": [
      "Unexpected exception formatting exception. Falling back to standard exception\n"
     ]
    },
    {
     "name": "stderr",
     "output_type": "stream",
     "text": [
      "Traceback (most recent call last):\n",
      "  File \"/home/kartushov/pet_projects/mfdp/.venv/lib/python3.8/site-packages/IPython/core/interactiveshell.py\", line 3460, in run_code\n",
      "    exec(code_obj, self.user_global_ns, self.user_ns)\n",
      "  File \"/tmp/ipykernel_45204/1066465413.py\", line 1, in <module>\n",
      "    from gpt4all import retrieve_model\n",
      "ModuleNotFoundError: No module named 'gpt4all'\n",
      "\n",
      "During handling of the above exception, another exception occurred:\n",
      "\n",
      "Traceback (most recent call last):\n",
      "  File \"/home/kartushov/pet_projects/mfdp/.venv/lib/python3.8/site-packages/IPython/core/interactiveshell.py\", line 2057, in showtraceback\n",
      "    stb = self.InteractiveTB.structured_traceback(\n",
      "  File \"/home/kartushov/pet_projects/mfdp/.venv/lib/python3.8/site-packages/IPython/core/ultratb.py\", line 1288, in structured_traceback\n",
      "    return FormattedTB.structured_traceback(\n",
      "  File \"/home/kartushov/pet_projects/mfdp/.venv/lib/python3.8/site-packages/IPython/core/ultratb.py\", line 1177, in structured_traceback\n",
      "    return VerboseTB.structured_traceback(\n",
      "  File \"/home/kartushov/pet_projects/mfdp/.venv/lib/python3.8/site-packages/IPython/core/ultratb.py\", line 1030, in structured_traceback\n",
      "    formatted_exception = self.format_exception_as_a_whole(etype, evalue, etb, number_of_lines_of_context,\n",
      "  File \"/home/kartushov/pet_projects/mfdp/.venv/lib/python3.8/site-packages/IPython/core/ultratb.py\", line 960, in format_exception_as_a_whole\n",
      "    frames.append(self.format_record(record))\n",
      "  File \"/home/kartushov/pet_projects/mfdp/.venv/lib/python3.8/site-packages/IPython/core/ultratb.py\", line 870, in format_record\n",
      "    frame_info.lines, Colors, self.has_colors, lvals\n",
      "  File \"/home/kartushov/pet_projects/mfdp/.venv/lib/python3.8/site-packages/IPython/core/ultratb.py\", line 704, in lines\n",
      "    return self._sd.lines\n",
      "  File \"/home/kartushov/pet_projects/mfdp/.venv/lib/python3.8/site-packages/stack_data/utils.py\", line 144, in cached_property_wrapper\n",
      "    value = obj.__dict__[self.func.__name__] = self.func(obj)\n",
      "  File \"/home/kartushov/pet_projects/mfdp/.venv/lib/python3.8/site-packages/stack_data/core.py\", line 734, in lines\n",
      "    pieces = self.included_pieces\n",
      "  File \"/home/kartushov/pet_projects/mfdp/.venv/lib/python3.8/site-packages/stack_data/utils.py\", line 144, in cached_property_wrapper\n",
      "    value = obj.__dict__[self.func.__name__] = self.func(obj)\n",
      "  File \"/home/kartushov/pet_projects/mfdp/.venv/lib/python3.8/site-packages/stack_data/core.py\", line 677, in included_pieces\n",
      "    scope_pieces = self.scope_pieces\n",
      "  File \"/home/kartushov/pet_projects/mfdp/.venv/lib/python3.8/site-packages/stack_data/utils.py\", line 144, in cached_property_wrapper\n",
      "    value = obj.__dict__[self.func.__name__] = self.func(obj)\n",
      "  File \"/home/kartushov/pet_projects/mfdp/.venv/lib/python3.8/site-packages/stack_data/core.py\", line 614, in scope_pieces\n",
      "    scope_start, scope_end = self.source.line_range(self.scope)\n",
      "  File \"/home/kartushov/pet_projects/mfdp/.venv/lib/python3.8/site-packages/stack_data/core.py\", line 178, in line_range\n",
      "    return line_range(self.asttext(), node)\n",
      "  File \"/home/kartushov/pet_projects/mfdp/.venv/lib/python3.8/site-packages/executing/executing.py\", line 428, in asttext\n",
      "    self._asttext = ASTText(self.text, tree=self.tree, filename=self.filename)\n",
      "  File \"/home/kartushov/pet_projects/mfdp/.venv/lib/python3.8/site-packages/asttokens/asttokens.py\", line 307, in __init__\n",
      "    super(ASTText, self).__init__(source_text, filename)\n",
      "  File \"/home/kartushov/pet_projects/mfdp/.venv/lib/python3.8/site-packages/asttokens/asttokens.py\", line 44, in __init__\n",
      "    source_text = six.ensure_text(source_text)\n",
      "AttributeError: module 'six' has no attribute 'ensure_text'\n"
     ]
    }
   ],
   "source": [
    "from gpt4all import retrieve_model\n",
    "\n",
    "# m = GPT4All(model='../src/model/ggml-gpt4all-j-v1.3-groovy.bin')"
   ]
  },
  {
   "cell_type": "code",
   "execution_count": 3,
   "metadata": {},
   "outputs": [
    {
     "name": "stdout",
     "output_type": "stream",
     "text": [
      "Unexpected exception formatting exception. Falling back to standard exception\n"
     ]
    },
    {
     "name": "stderr",
     "output_type": "stream",
     "text": [
      "Traceback (most recent call last):\n",
      "  File \"/home/kartushov/pet_projects/mfdp/.venv/lib/python3.8/site-packages/IPython/core/interactiveshell.py\", line 3460, in run_code\n",
      "    exec(code_obj, self.user_global_ns, self.user_ns)\n",
      "  File \"/tmp/ipykernel_41270/1497821502.py\", line 1, in <module>\n",
      "    m\n",
      "NameError: name 'm' is not defined\n",
      "\n",
      "During handling of the above exception, another exception occurred:\n",
      "\n",
      "Traceback (most recent call last):\n",
      "  File \"/home/kartushov/pet_projects/mfdp/.venv/lib/python3.8/site-packages/IPython/core/interactiveshell.py\", line 2057, in showtraceback\n",
      "    stb = self.InteractiveTB.structured_traceback(\n",
      "  File \"/home/kartushov/pet_projects/mfdp/.venv/lib/python3.8/site-packages/IPython/core/ultratb.py\", line 1288, in structured_traceback\n",
      "    return FormattedTB.structured_traceback(\n",
      "  File \"/home/kartushov/pet_projects/mfdp/.venv/lib/python3.8/site-packages/IPython/core/ultratb.py\", line 1177, in structured_traceback\n",
      "    return VerboseTB.structured_traceback(\n",
      "  File \"/home/kartushov/pet_projects/mfdp/.venv/lib/python3.8/site-packages/IPython/core/ultratb.py\", line 1030, in structured_traceback\n",
      "    formatted_exception = self.format_exception_as_a_whole(etype, evalue, etb, number_of_lines_of_context,\n",
      "  File \"/home/kartushov/pet_projects/mfdp/.venv/lib/python3.8/site-packages/IPython/core/ultratb.py\", line 960, in format_exception_as_a_whole\n",
      "    frames.append(self.format_record(record))\n",
      "  File \"/home/kartushov/pet_projects/mfdp/.venv/lib/python3.8/site-packages/IPython/core/ultratb.py\", line 870, in format_record\n",
      "    frame_info.lines, Colors, self.has_colors, lvals\n",
      "  File \"/home/kartushov/pet_projects/mfdp/.venv/lib/python3.8/site-packages/IPython/core/ultratb.py\", line 704, in lines\n",
      "    return self._sd.lines\n",
      "  File \"/home/kartushov/pet_projects/mfdp/.venv/lib/python3.8/site-packages/stack_data/utils.py\", line 144, in cached_property_wrapper\n",
      "    value = obj.__dict__[self.func.__name__] = self.func(obj)\n",
      "  File \"/home/kartushov/pet_projects/mfdp/.venv/lib/python3.8/site-packages/stack_data/core.py\", line 734, in lines\n",
      "    pieces = self.included_pieces\n",
      "  File \"/home/kartushov/pet_projects/mfdp/.venv/lib/python3.8/site-packages/stack_data/utils.py\", line 144, in cached_property_wrapper\n",
      "    value = obj.__dict__[self.func.__name__] = self.func(obj)\n",
      "  File \"/home/kartushov/pet_projects/mfdp/.venv/lib/python3.8/site-packages/stack_data/core.py\", line 677, in included_pieces\n",
      "    scope_pieces = self.scope_pieces\n",
      "  File \"/home/kartushov/pet_projects/mfdp/.venv/lib/python3.8/site-packages/stack_data/utils.py\", line 144, in cached_property_wrapper\n",
      "    value = obj.__dict__[self.func.__name__] = self.func(obj)\n",
      "  File \"/home/kartushov/pet_projects/mfdp/.venv/lib/python3.8/site-packages/stack_data/core.py\", line 614, in scope_pieces\n",
      "    scope_start, scope_end = self.source.line_range(self.scope)\n",
      "  File \"/home/kartushov/pet_projects/mfdp/.venv/lib/python3.8/site-packages/stack_data/core.py\", line 178, in line_range\n",
      "    return line_range(self.asttext(), node)\n",
      "  File \"/home/kartushov/pet_projects/mfdp/.venv/lib/python3.8/site-packages/executing/executing.py\", line 428, in asttext\n",
      "    self._asttext = ASTText(self.text, tree=self.tree, filename=self.filename)\n",
      "  File \"/home/kartushov/pet_projects/mfdp/.venv/lib/python3.8/site-packages/asttokens/asttokens.py\", line 307, in __init__\n",
      "    super(ASTText, self).__init__(source_text, filename)\n",
      "  File \"/home/kartushov/pet_projects/mfdp/.venv/lib/python3.8/site-packages/asttokens/asttokens.py\", line 44, in __init__\n",
      "    source_text = six.ensure_text(source_text)\n",
      "AttributeError: module 'six' has no attribute 'ensure_text'\n"
     ]
    }
   ],
   "source": []
  },
  {
   "cell_type": "code",
   "execution_count": null,
   "metadata": {},
   "outputs": [],
   "source": []
  }
 ],
 "metadata": {
  "kernelspec": {
   "display_name": "Python 3.8.10 ('.venv': poetry)",
   "language": "python",
   "name": "python3"
  },
  "language_info": {
   "codemirror_mode": {
    "name": "ipython",
    "version": 3
   },
   "file_extension": ".py",
   "mimetype": "text/x-python",
   "name": "python",
   "nbconvert_exporter": "python",
   "pygments_lexer": "ipython3",
   "version": "3.8.10"
  },
  "vscode": {
   "interpreter": {
    "hash": "109a23c7f57a96306d715734dea37fd82babdb605c33a9e1423f71d4629966f1"
   }
  }
 },
 "nbformat": 4,
 "nbformat_minor": 4
}
